{
 "cells": [
  {
   "cell_type": "code",
   "execution_count": 1,
   "id": "4e46114d",
   "metadata": {},
   "outputs": [
    {
     "name": "stdout",
     "output_type": "stream",
     "text": [
      "tensor([1, 3, 5, 7])\n",
      "tensor([1, 3, 5, 7])\n",
      "tensor([[1, 3, 5, 7],\n",
      "        [2, 4, 6, 8]])\n",
      "tensor([1, 2, 3, 4, 5, 6, 7, 8])\n"
     ]
    },
    {
     "name": "stderr",
     "output_type": "stream",
     "text": [
      "/tmp/ipykernel_6239/2054669105.py:4: UserWarning: The use of `x.T` on tensors of dimension other than 2 to reverse their shape is deprecated and it will throw an error in a future release. Consider `x.mT` to transpose batches of matrices or `x.permute(*torch.arange(x.ndim - 1, -1, -1))` to reverse the dimensions of a tensor. (Triggered internally at ../aten/src/ATen/native/TensorShape.cpp:3614.)\n",
      "  print(a.T)\n"
     ]
    }
   ],
   "source": [
    "import torch\n",
    "a = torch.tensor([1, 3, 5, 7])\n",
    "b = torch.tensor([2, 4, 6, 8])\n",
    "print(a.T)\n",
    "print(a)\n",
    "# Merge tensors using torch.cat\n",
    "result_tensor = torch.cat((a, b), dim=0)\n",
    "print(torch.stack((a,b)))\n",
    "stack_ed = torch.flatten(torch.stack((a, b), dim=1))\n",
    "print(stack_ed)"
   ]
  },
  {
   "cell_type": "code",
   "execution_count": 2,
   "id": "785f6d1f",
   "metadata": {},
   "outputs": [
    {
     "name": "stdout",
     "output_type": "stream",
     "text": [
      "Original tensor:\n",
      "tensor([[1, 2, 3],\n",
      "        [4, 5, 6],\n",
      "        [7, 8, 9]])\n",
      "\n",
      "Shifted tensor along dimension 1: \n",
      "tensor([[2, 3, 1],\n",
      "        [5, 6, 4],\n",
      "        [8, 9, 7]])\n"
     ]
    }
   ],
   "source": [
    "import torch\n",
    "\n",
    "# Example tensor\n",
    "tensor = torch.tensor([[1, 2, 3],\n",
    "                       [4, 5, 6],\n",
    "                       [7, 8, 9]])\n",
    "\n",
    "# Dimension to shift along\n",
    "dim = 1\n",
    "\n",
    "# Shift all values along dimension 'dim' by 1\n",
    "shifted_tensor = torch.cat([tensor[:, 1:], tensor[:, :1]], dim=dim)\n",
    "shifted_tensor1 = torch.cat([tensor[-1:, :], tensor[:-1, :]], dim=0) # 1 and -1 shift achieve shift to left and right\n",
    "\n",
    "\n",
    "print(\"Original tensor:\")\n",
    "print(tensor)\n",
    "\n",
    "print(\"\\nShifted tensor along dimension {}: \".format(dim))\n",
    "print(shifted_tensor)\n"
   ]
  },
  {
   "cell_type": "code",
   "execution_count": 3,
   "id": "01d35609",
   "metadata": {},
   "outputs": [
    {
     "name": "stdout",
     "output_type": "stream",
     "text": [
      "tensor([1, 3])\n",
      "tensor([1, 3, 5, 7, 1, 3, 5, 7, 1, 3, 5, 7])\n"
     ]
    }
   ],
   "source": [
    "expansion = torch.tile(a,(3,))\n",
    "print(a[:2])\n",
    "print(expansion)"
   ]
  },
  {
   "cell_type": "code",
   "execution_count": null,
   "id": "1e57d121",
   "metadata": {},
   "outputs": [],
   "source": []
  },
  {
   "cell_type": "code",
   "execution_count": 4,
   "id": "95613eae",
   "metadata": {},
   "outputs": [],
   "source": [
    "import torchvision.transforms as transforms\n",
    "\n",
    "transform = transforms.Compose([\n",
    "    # Resize to have the shortest edge be 224, maintaining aspect ratio\n",
    "    transforms.Resize(size=(224, 224)),\n",
    "\n",
    "    # Randomly crop a 224x224 region (87.5% of the image)\n",
    "    transforms.RandomResizedCrop(size=224, scale=(0.875, 1.0), ratio=(1.0, 1.0)),\n",
    "\n",
    "    # Rescale pixel values to [0, 1]\n",
    "    transforms.ToTensor(),\n",
    "\n",
    "    # Normalize using the specified mean and standard deviation\n",
    "    transforms.Normalize(mean=[0.485, 0.456, 0.406], std=[0.229, 0.224, 0.225])\n",
    "])"
   ]
  },
  {
   "cell_type": "code",
   "execution_count": null,
   "id": "cb56db6d",
   "metadata": {},
   "outputs": [],
   "source": []
  },
  {
   "cell_type": "code",
   "execution_count": 8,
   "id": "b19f5c47",
   "metadata": {},
   "outputs": [
    {
     "ename": "ImportError",
     "evalue": "cannot import name 'ConvNeXTV2Config' from 'transformers' (/home/niklas/anaconda3/lib/python3.11/site-packages/transformers/__init__.py)",
     "output_type": "error",
     "traceback": [
      "\u001b[0;31m---------------------------------------------------------------------------\u001b[0m",
      "\u001b[0;31mImportError\u001b[0m                               Traceback (most recent call last)",
      "Cell \u001b[0;32mIn[8], line 2\u001b[0m\n\u001b[1;32m      1\u001b[0m \u001b[38;5;28;01mfrom\u001b[39;00m \u001b[38;5;21;01mtransformers\u001b[39;00m \u001b[38;5;28;01mimport\u001b[39;00m AutoImageProcessor, ConvNextV2ForImageClassification\n\u001b[0;32m----> 2\u001b[0m \u001b[38;5;28;01mfrom\u001b[39;00m \u001b[38;5;21;01mtransformers\u001b[39;00m \u001b[38;5;28;01mimport\u001b[39;00m ConvNeXTV2Config, ConvNextV2Model\n\u001b[1;32m      4\u001b[0m \u001b[38;5;66;03m# Initializing a ConvNeXTV2 convnextv2-tiny-1k-224 style configuration\u001b[39;00m\n\u001b[1;32m      6\u001b[0m configuration \u001b[38;5;241m=\u001b[39m ConvNeXTV2Config()\n",
      "\u001b[0;31mImportError\u001b[0m: cannot import name 'ConvNeXTV2Config' from 'transformers' (/home/niklas/anaconda3/lib/python3.11/site-packages/transformers/__init__.py)"
     ]
    }
   ],
   "source": []
  },
  {
   "cell_type": "code",
   "execution_count": 5,
   "id": "0884bf40",
   "metadata": {},
   "outputs": [
    {
     "name": "stderr",
     "output_type": "stream",
     "text": [
      "/home/niklas/anaconda3/lib/python3.11/site-packages/datasets/load.py:1454: FutureWarning: The repository for huggingface/cats-image contains custom code which must be executed to correctly load the dataset. You can inspect the repository content at https://hf.co/datasets/huggingface/cats-image\n",
      "You can avoid this message in future by passing the argument `trust_remote_code=True`.\n",
      "Passing `trust_remote_code=True` will be mandatory to load this dataset from the next major release of `datasets`.\n",
      "  warnings.warn(\n"
     ]
    },
    {
     "name": "stdout",
     "output_type": "stream",
     "text": [
      "<class 'torch.Tensor'>\n",
      "torch.Size([1, 3, 224, 224])\n",
      "281\n",
      "tabby, tabby cat\n"
     ]
    }
   ],
   "source": [
    "from transformers import AutoImageProcessor, ConvNextV2ForImageClassification,ConvNextV2Config\n",
    "import tensorboard\n",
    "from torch.utils.tensorboard import SummaryWriter\n",
    "import torchvision\n",
    "import transformers\n",
    "\n",
    "\n",
    "import torch\n",
    "from datasets import load_dataset\n",
    "temp = SummaryWriter()\n",
    "dataset = load_dataset(\"huggingface/cats-image\")\n",
    "image = dataset[\"test\"][\"image\"][0]\n",
    "#trainloader = torch.utils.data.DataLoader(images, batch_size = 2, shuffle=True)\n",
    "#image, labels =next(iter(trainloader))\n",
    "image_processor = AutoImageProcessor.from_pretrained(\"facebook/convnextv2-tiny-1k-224\")\n",
    "model = ConvNextV2ForImageClassification.from_pretrained(\"facebook/convnextv2-tiny-1k-224\")\n",
    "dummy_input = image\n",
    "#writer.add_graph(image_processor, image)\n",
    "\n",
    "#model.layernorm = nn.LayerNorm((768,), eps=1e-12, elementwise_affine=True)\n",
    "\n",
    "inputs = image_processor(image, return_tensors=\"pt\")\n",
    "print(type(inputs[\"pixel_values\"]))\n",
    "print(inputs[\"pixel_values\"].shape)\n",
    "\n",
    "\n",
    "\n",
    "with torch.no_grad():\n",
    "\n",
    "    logits = model(**inputs).logits\n",
    "\n",
    "# model predicts one of the 1000 ImageNet classes\n",
    "\n",
    "predicted_label = logits.argmax(-1).item()\n",
    "    \n",
    "\n",
    "    #temp.add_graph(model, inputs[\"pixel_values\"], use_strict_trace=False)\n",
    "    #temp.add_graph(model, inputs[\"input_values\"])\n",
    "\n",
    "# model predicts one of the 1000 ImageNet classes\n",
    "predicted_label = logits.argmax(-1).item()\n",
    "print(predicted_label)\n",
    "#grid = torchvision.utils.make_grid(image)\n",
    "#writer.add_image('images', grid, 0)\n",
    "\n",
    "temp.close()\n",
    "print(model.config.id2label[predicted_label])"
   ]
  },
  {
   "cell_type": "code",
   "execution_count": 8,
   "id": "7f2dbcbe",
   "metadata": {},
   "outputs": [],
   "source": [
    "import torch \n",
    "from torch import nn\n",
    "class Wrapp(nn.Module):\n",
    "    \n",
    "    def __init__(self, in_channels=3, num_classes=1000):\n",
    "        super(Wrapp, self).__\n",
    "        init__()\n",
    "        self.tokenizer = AutoImageProcessor.from_pretrained(\"facebook/convnextv2-tiny-1k-224\")\n",
    "        self.convnext2 = ConvNextV2ForImageClassification.from_pretrained(\"facebook/convnextv2-tiny-1k-224\")\n",
    "    def forward(self, x):\n",
    "        x = self.tokenizer(x, return_tensors=\"pt\")\n",
    "        x = self.convnext2(**x)\n",
    "        x = x.logits\n",
    "        print(type(x))\n",
    "        print(dir(x))\n",
    "        return x"
   ]
  },
  {
   "cell_type": "code",
   "execution_count": 24,
   "id": "ae994e1d",
   "metadata": {},
   "outputs": [],
   "source": [
    "import torch \n",
    "from torch import nn\n",
    "class WrappMnist(nn.Module):\n",
    "    \n",
    "    def __init__(self, in_channels=1, num_classes=10):\n",
    "        super(WrappMnist, self).__init__()\n",
    "        self.tokenizer = AutoImageProcessor.from_pretrained(\"facebook/convnextv2-tiny-1k-224\", do_normalize=False)\n",
    "        self.convnext2 = ConvNextV2ForImageClassification.from_pretrained(\"facebook/convnextv2-tiny-1k-224\")\n",
    "        config = ConvNextV2Config.from_pretrained(\"facebook/convnextv2-tiny-1k-224\")\n",
    "        config.num_channels = 1 \n",
    "        convnext2 = ConvNextV2ForImageClassification(config)\n",
    "        #convnext2.classifier = nn.Linear(in_channels=3072, out_channels=10)\n",
    "        self.convnext2 = convnext2\n",
    "        \n",
    "        \n",
    "        \n",
    "    def forward(self, x):\n",
    "        x = self.tokenizer(x, return_tensors=\"pt\")\n",
    "       \n",
    "        x = self.convnext2(**x)\n",
    "        x = x.logits\n",
    "     \n",
    "        return x\n",
    "    "
   ]
  },
  {
   "cell_type": "code",
   "execution_count": 35,
   "id": "e1c5705f",
   "metadata": {},
   "outputs": [
    {
     "name": "stdout",
     "output_type": "stream",
     "text": [
      "convnext2.convnextv2.embeddings.patch_embeddings.weight\n",
      "convnext2.convnextv2.embeddings.patch_embeddings.bias\n",
      "convnext2.convnextv2.embeddings.layernorm.weight\n",
      "convnext2.convnextv2.embeddings.layernorm.bias\n",
      "convnext2.convnextv2.encoder.stages.0.layers.0.dwconv.weight\n",
      "convnext2.convnextv2.encoder.stages.0.layers.0.dwconv.bias\n",
      "convnext2.convnextv2.encoder.stages.0.layers.0.layernorm.weight\n",
      "convnext2.convnextv2.encoder.stages.0.layers.0.layernorm.bias\n",
      "convnext2.convnextv2.encoder.stages.0.layers.0.pwconv1.weight\n",
      "convnext2.convnextv2.encoder.stages.0.layers.0.pwconv1.bias\n",
      "convnext2.convnextv2.encoder.stages.0.layers.0.grn.weight\n",
      "convnext2.convnextv2.encoder.stages.0.layers.0.grn.bias\n",
      "convnext2.convnextv2.encoder.stages.0.layers.0.pwconv2.weight\n",
      "convnext2.convnextv2.encoder.stages.0.layers.0.pwconv2.bias\n",
      "convnext2.convnextv2.encoder.stages.0.layers.1.dwconv.weight\n",
      "convnext2.convnextv2.encoder.stages.0.layers.1.dwconv.bias\n",
      "convnext2.convnextv2.encoder.stages.0.layers.1.layernorm.weight\n",
      "convnext2.convnextv2.encoder.stages.0.layers.1.layernorm.bias\n",
      "convnext2.convnextv2.encoder.stages.0.layers.1.pwconv1.weight\n",
      "convnext2.convnextv2.encoder.stages.0.layers.1.pwconv1.bias\n",
      "convnext2.convnextv2.encoder.stages.0.layers.1.grn.weight\n",
      "convnext2.convnextv2.encoder.stages.0.layers.1.grn.bias\n",
      "convnext2.convnextv2.encoder.stages.0.layers.1.pwconv2.weight\n",
      "convnext2.convnextv2.encoder.stages.0.layers.1.pwconv2.bias\n",
      "convnext2.convnextv2.encoder.stages.0.layers.2.dwconv.weight\n",
      "convnext2.convnextv2.encoder.stages.0.layers.2.dwconv.bias\n",
      "convnext2.convnextv2.encoder.stages.0.layers.2.layernorm.weight\n",
      "convnext2.convnextv2.encoder.stages.0.layers.2.layernorm.bias\n",
      "convnext2.convnextv2.encoder.stages.0.layers.2.pwconv1.weight\n",
      "convnext2.convnextv2.encoder.stages.0.layers.2.pwconv1.bias\n",
      "convnext2.convnextv2.encoder.stages.0.layers.2.grn.weight\n",
      "convnext2.convnextv2.encoder.stages.0.layers.2.grn.bias\n",
      "convnext2.convnextv2.encoder.stages.0.layers.2.pwconv2.weight\n",
      "convnext2.convnextv2.encoder.stages.0.layers.2.pwconv2.bias\n",
      "convnext2.convnextv2.encoder.stages.1.downsampling_layer.0.weight\n",
      "convnext2.convnextv2.encoder.stages.1.downsampling_layer.0.bias\n",
      "convnext2.convnextv2.encoder.stages.1.downsampling_layer.1.weight\n",
      "convnext2.convnextv2.encoder.stages.1.downsampling_layer.1.bias\n",
      "convnext2.convnextv2.encoder.stages.1.layers.0.dwconv.weight\n",
      "convnext2.convnextv2.encoder.stages.1.layers.0.dwconv.bias\n",
      "convnext2.convnextv2.encoder.stages.1.layers.0.layernorm.weight\n",
      "convnext2.convnextv2.encoder.stages.1.layers.0.layernorm.bias\n",
      "convnext2.convnextv2.encoder.stages.1.layers.0.pwconv1.weight\n",
      "convnext2.convnextv2.encoder.stages.1.layers.0.pwconv1.bias\n",
      "convnext2.convnextv2.encoder.stages.1.layers.0.grn.weight\n",
      "convnext2.convnextv2.encoder.stages.1.layers.0.grn.bias\n",
      "convnext2.convnextv2.encoder.stages.1.layers.0.pwconv2.weight\n",
      "convnext2.convnextv2.encoder.stages.1.layers.0.pwconv2.bias\n",
      "convnext2.convnextv2.encoder.stages.1.layers.1.dwconv.weight\n",
      "convnext2.convnextv2.encoder.stages.1.layers.1.dwconv.bias\n",
      "convnext2.convnextv2.encoder.stages.1.layers.1.layernorm.weight\n",
      "convnext2.convnextv2.encoder.stages.1.layers.1.layernorm.bias\n",
      "convnext2.convnextv2.encoder.stages.1.layers.1.pwconv1.weight\n",
      "convnext2.convnextv2.encoder.stages.1.layers.1.pwconv1.bias\n",
      "convnext2.convnextv2.encoder.stages.1.layers.1.grn.weight\n",
      "convnext2.convnextv2.encoder.stages.1.layers.1.grn.bias\n",
      "convnext2.convnextv2.encoder.stages.1.layers.1.pwconv2.weight\n",
      "convnext2.convnextv2.encoder.stages.1.layers.1.pwconv2.bias\n",
      "convnext2.convnextv2.encoder.stages.1.layers.2.dwconv.weight\n",
      "convnext2.convnextv2.encoder.stages.1.layers.2.dwconv.bias\n",
      "convnext2.convnextv2.encoder.stages.1.layers.2.layernorm.weight\n",
      "convnext2.convnextv2.encoder.stages.1.layers.2.layernorm.bias\n",
      "convnext2.convnextv2.encoder.stages.1.layers.2.pwconv1.weight\n",
      "convnext2.convnextv2.encoder.stages.1.layers.2.pwconv1.bias\n",
      "convnext2.convnextv2.encoder.stages.1.layers.2.grn.weight\n",
      "convnext2.convnextv2.encoder.stages.1.layers.2.grn.bias\n",
      "convnext2.convnextv2.encoder.stages.1.layers.2.pwconv2.weight\n",
      "convnext2.convnextv2.encoder.stages.1.layers.2.pwconv2.bias\n",
      "convnext2.convnextv2.encoder.stages.2.downsampling_layer.0.weight\n",
      "convnext2.convnextv2.encoder.stages.2.downsampling_layer.0.bias\n",
      "convnext2.convnextv2.encoder.stages.2.downsampling_layer.1.weight\n",
      "convnext2.convnextv2.encoder.stages.2.downsampling_layer.1.bias\n",
      "convnext2.convnextv2.encoder.stages.2.layers.0.dwconv.weight\n",
      "convnext2.convnextv2.encoder.stages.2.layers.0.dwconv.bias\n",
      "convnext2.convnextv2.encoder.stages.2.layers.0.layernorm.weight\n",
      "convnext2.convnextv2.encoder.stages.2.layers.0.layernorm.bias\n",
      "convnext2.convnextv2.encoder.stages.2.layers.0.pwconv1.weight\n",
      "convnext2.convnextv2.encoder.stages.2.layers.0.pwconv1.bias\n",
      "convnext2.convnextv2.encoder.stages.2.layers.0.grn.weight\n",
      "convnext2.convnextv2.encoder.stages.2.layers.0.grn.bias\n",
      "convnext2.convnextv2.encoder.stages.2.layers.0.pwconv2.weight\n",
      "convnext2.convnextv2.encoder.stages.2.layers.0.pwconv2.bias\n",
      "convnext2.convnextv2.encoder.stages.2.layers.1.dwconv.weight\n",
      "convnext2.convnextv2.encoder.stages.2.layers.1.dwconv.bias\n",
      "convnext2.convnextv2.encoder.stages.2.layers.1.layernorm.weight\n",
      "convnext2.convnextv2.encoder.stages.2.layers.1.layernorm.bias\n",
      "convnext2.convnextv2.encoder.stages.2.layers.1.pwconv1.weight\n",
      "convnext2.convnextv2.encoder.stages.2.layers.1.pwconv1.bias\n",
      "convnext2.convnextv2.encoder.stages.2.layers.1.grn.weight\n",
      "convnext2.convnextv2.encoder.stages.2.layers.1.grn.bias\n",
      "convnext2.convnextv2.encoder.stages.2.layers.1.pwconv2.weight\n",
      "convnext2.convnextv2.encoder.stages.2.layers.1.pwconv2.bias\n",
      "convnext2.convnextv2.encoder.stages.2.layers.2.dwconv.weight\n",
      "convnext2.convnextv2.encoder.stages.2.layers.2.dwconv.bias\n",
      "convnext2.convnextv2.encoder.stages.2.layers.2.layernorm.weight\n",
      "convnext2.convnextv2.encoder.stages.2.layers.2.layernorm.bias\n",
      "convnext2.convnextv2.encoder.stages.2.layers.2.pwconv1.weight\n",
      "convnext2.convnextv2.encoder.stages.2.layers.2.pwconv1.bias\n",
      "convnext2.convnextv2.encoder.stages.2.layers.2.grn.weight\n",
      "convnext2.convnextv2.encoder.stages.2.layers.2.grn.bias\n",
      "convnext2.convnextv2.encoder.stages.2.layers.2.pwconv2.weight\n",
      "convnext2.convnextv2.encoder.stages.2.layers.2.pwconv2.bias\n",
      "convnext2.convnextv2.encoder.stages.2.layers.3.dwconv.weight\n",
      "convnext2.convnextv2.encoder.stages.2.layers.3.dwconv.bias\n",
      "convnext2.convnextv2.encoder.stages.2.layers.3.layernorm.weight\n",
      "convnext2.convnextv2.encoder.stages.2.layers.3.layernorm.bias\n",
      "convnext2.convnextv2.encoder.stages.2.layers.3.pwconv1.weight\n",
      "convnext2.convnextv2.encoder.stages.2.layers.3.pwconv1.bias\n",
      "convnext2.convnextv2.encoder.stages.2.layers.3.grn.weight\n",
      "convnext2.convnextv2.encoder.stages.2.layers.3.grn.bias\n",
      "convnext2.convnextv2.encoder.stages.2.layers.3.pwconv2.weight\n",
      "convnext2.convnextv2.encoder.stages.2.layers.3.pwconv2.bias\n",
      "convnext2.convnextv2.encoder.stages.2.layers.4.dwconv.weight\n",
      "convnext2.convnextv2.encoder.stages.2.layers.4.dwconv.bias\n",
      "convnext2.convnextv2.encoder.stages.2.layers.4.layernorm.weight\n",
      "convnext2.convnextv2.encoder.stages.2.layers.4.layernorm.bias\n",
      "convnext2.convnextv2.encoder.stages.2.layers.4.pwconv1.weight\n",
      "convnext2.convnextv2.encoder.stages.2.layers.4.pwconv1.bias\n",
      "convnext2.convnextv2.encoder.stages.2.layers.4.grn.weight\n",
      "convnext2.convnextv2.encoder.stages.2.layers.4.grn.bias\n",
      "convnext2.convnextv2.encoder.stages.2.layers.4.pwconv2.weight\n",
      "convnext2.convnextv2.encoder.stages.2.layers.4.pwconv2.bias\n",
      "convnext2.convnextv2.encoder.stages.2.layers.5.dwconv.weight\n",
      "convnext2.convnextv2.encoder.stages.2.layers.5.dwconv.bias\n",
      "convnext2.convnextv2.encoder.stages.2.layers.5.layernorm.weight\n",
      "convnext2.convnextv2.encoder.stages.2.layers.5.layernorm.bias\n",
      "convnext2.convnextv2.encoder.stages.2.layers.5.pwconv1.weight\n",
      "convnext2.convnextv2.encoder.stages.2.layers.5.pwconv1.bias\n",
      "convnext2.convnextv2.encoder.stages.2.layers.5.grn.weight\n",
      "convnext2.convnextv2.encoder.stages.2.layers.5.grn.bias\n",
      "convnext2.convnextv2.encoder.stages.2.layers.5.pwconv2.weight\n",
      "convnext2.convnextv2.encoder.stages.2.layers.5.pwconv2.bias\n",
      "convnext2.convnextv2.encoder.stages.2.layers.6.dwconv.weight\n",
      "convnext2.convnextv2.encoder.stages.2.layers.6.dwconv.bias\n",
      "convnext2.convnextv2.encoder.stages.2.layers.6.layernorm.weight\n",
      "convnext2.convnextv2.encoder.stages.2.layers.6.layernorm.bias\n",
      "convnext2.convnextv2.encoder.stages.2.layers.6.pwconv1.weight\n",
      "convnext2.convnextv2.encoder.stages.2.layers.6.pwconv1.bias\n",
      "convnext2.convnextv2.encoder.stages.2.layers.6.grn.weight\n",
      "convnext2.convnextv2.encoder.stages.2.layers.6.grn.bias\n",
      "convnext2.convnextv2.encoder.stages.2.layers.6.pwconv2.weight\n",
      "convnext2.convnextv2.encoder.stages.2.layers.6.pwconv2.bias\n",
      "convnext2.convnextv2.encoder.stages.2.layers.7.dwconv.weight\n",
      "convnext2.convnextv2.encoder.stages.2.layers.7.dwconv.bias\n",
      "convnext2.convnextv2.encoder.stages.2.layers.7.layernorm.weight\n",
      "convnext2.convnextv2.encoder.stages.2.layers.7.layernorm.bias\n",
      "convnext2.convnextv2.encoder.stages.2.layers.7.pwconv1.weight\n",
      "convnext2.convnextv2.encoder.stages.2.layers.7.pwconv1.bias\n",
      "convnext2.convnextv2.encoder.stages.2.layers.7.grn.weight\n",
      "convnext2.convnextv2.encoder.stages.2.layers.7.grn.bias\n",
      "convnext2.convnextv2.encoder.stages.2.layers.7.pwconv2.weight\n",
      "convnext2.convnextv2.encoder.stages.2.layers.7.pwconv2.bias\n",
      "convnext2.convnextv2.encoder.stages.2.layers.8.dwconv.weight\n",
      "convnext2.convnextv2.encoder.stages.2.layers.8.dwconv.bias\n",
      "convnext2.convnextv2.encoder.stages.2.layers.8.layernorm.weight\n",
      "convnext2.convnextv2.encoder.stages.2.layers.8.layernorm.bias\n",
      "convnext2.convnextv2.encoder.stages.2.layers.8.pwconv1.weight\n",
      "convnext2.convnextv2.encoder.stages.2.layers.8.pwconv1.bias\n",
      "convnext2.convnextv2.encoder.stages.2.layers.8.grn.weight\n",
      "convnext2.convnextv2.encoder.stages.2.layers.8.grn.bias\n",
      "convnext2.convnextv2.encoder.stages.2.layers.8.pwconv2.weight\n",
      "convnext2.convnextv2.encoder.stages.2.layers.8.pwconv2.bias\n",
      "convnext2.convnextv2.encoder.stages.3.downsampling_layer.0.weight\n",
      "convnext2.convnextv2.encoder.stages.3.downsampling_layer.0.bias\n",
      "convnext2.convnextv2.encoder.stages.3.downsampling_layer.1.weight\n",
      "convnext2.convnextv2.encoder.stages.3.downsampling_layer.1.bias\n",
      "convnext2.convnextv2.encoder.stages.3.layers.0.dwconv.weight\n",
      "convnext2.convnextv2.encoder.stages.3.layers.0.dwconv.bias\n",
      "convnext2.convnextv2.encoder.stages.3.layers.0.layernorm.weight\n",
      "convnext2.convnextv2.encoder.stages.3.layers.0.layernorm.bias\n",
      "convnext2.convnextv2.encoder.stages.3.layers.0.pwconv1.weight\n",
      "convnext2.convnextv2.encoder.stages.3.layers.0.pwconv1.bias\n",
      "convnext2.convnextv2.encoder.stages.3.layers.0.grn.weight\n",
      "convnext2.convnextv2.encoder.stages.3.layers.0.grn.bias\n",
      "convnext2.convnextv2.encoder.stages.3.layers.0.pwconv2.weight\n",
      "convnext2.convnextv2.encoder.stages.3.layers.0.pwconv2.bias\n",
      "convnext2.convnextv2.encoder.stages.3.layers.1.dwconv.weight\n",
      "convnext2.convnextv2.encoder.stages.3.layers.1.dwconv.bias\n",
      "convnext2.convnextv2.encoder.stages.3.layers.1.layernorm.weight\n",
      "convnext2.convnextv2.encoder.stages.3.layers.1.layernorm.bias\n",
      "convnext2.convnextv2.encoder.stages.3.layers.1.pwconv1.weight\n",
      "convnext2.convnextv2.encoder.stages.3.layers.1.pwconv1.bias\n",
      "convnext2.convnextv2.encoder.stages.3.layers.1.grn.weight\n",
      "convnext2.convnextv2.encoder.stages.3.layers.1.grn.bias\n",
      "convnext2.convnextv2.encoder.stages.3.layers.1.pwconv2.weight\n",
      "convnext2.convnextv2.encoder.stages.3.layers.1.pwconv2.bias\n",
      "convnext2.convnextv2.encoder.stages.3.layers.2.dwconv.weight\n",
      "convnext2.convnextv2.encoder.stages.3.layers.2.dwconv.bias\n",
      "convnext2.convnextv2.encoder.stages.3.layers.2.layernorm.weight\n",
      "convnext2.convnextv2.encoder.stages.3.layers.2.layernorm.bias\n",
      "convnext2.convnextv2.encoder.stages.3.layers.2.pwconv1.weight\n",
      "convnext2.convnextv2.encoder.stages.3.layers.2.pwconv1.bias\n",
      "convnext2.convnextv2.encoder.stages.3.layers.2.grn.weight\n",
      "convnext2.convnextv2.encoder.stages.3.layers.2.grn.bias\n",
      "convnext2.convnextv2.encoder.stages.3.layers.2.pwconv2.weight\n",
      "convnext2.convnextv2.encoder.stages.3.layers.2.pwconv2.bias\n",
      "convnext2.convnextv2.layernorm.weight\n",
      "convnext2.convnextv2.layernorm.bias\n",
      "convnext2.classifier.weight\n",
      "convnext2.classifier.bias\n",
      "cpu\n",
      "torch.Size([1, 3, 480, 640])\n"
     ]
    },
    {
     "ename": "ValueError",
     "evalue": "Make sure that the channel dimension of the pixel values match with the one set in the configuration.",
     "output_type": "error",
     "traceback": [
      "\u001b[0;31m---------------------------------------------------------------------------\u001b[0m",
      "\u001b[0;31mValueError\u001b[0m                                Traceback (most recent call last)",
      "Cell \u001b[0;32mIn[35], line 88\u001b[0m\n\u001b[1;32m     86\u001b[0m targets \u001b[38;5;241m=\u001b[39m targets\u001b[38;5;241m.\u001b[39mlong()\n\u001b[1;32m     87\u001b[0m targets \u001b[38;5;241m=\u001b[39m targets\u001b[38;5;241m.\u001b[39mto(device\u001b[38;5;241m=\u001b[39mdevice)\n\u001b[0;32m---> 88\u001b[0m scores \u001b[38;5;241m=\u001b[39m model(data)\n\u001b[1;32m     89\u001b[0m scores \u001b[38;5;241m=\u001b[39m scores\u001b[38;5;241m.\u001b[39mto(device\u001b[38;5;241m=\u001b[39mdevice)\n\u001b[1;32m     90\u001b[0m loss \u001b[38;5;241m=\u001b[39m criterion(scores, targets)\n",
      "File \u001b[0;32m~/anaconda3/lib/python3.11/site-packages/torch/nn/modules/module.py:1518\u001b[0m, in \u001b[0;36mModule._wrapped_call_impl\u001b[0;34m(self, *args, **kwargs)\u001b[0m\n\u001b[1;32m   1516\u001b[0m     \u001b[38;5;28;01mreturn\u001b[39;00m \u001b[38;5;28mself\u001b[39m\u001b[38;5;241m.\u001b[39m_compiled_call_impl(\u001b[38;5;241m*\u001b[39margs, \u001b[38;5;241m*\u001b[39m\u001b[38;5;241m*\u001b[39mkwargs)  \u001b[38;5;66;03m# type: ignore[misc]\u001b[39;00m\n\u001b[1;32m   1517\u001b[0m \u001b[38;5;28;01melse\u001b[39;00m:\n\u001b[0;32m-> 1518\u001b[0m     \u001b[38;5;28;01mreturn\u001b[39;00m \u001b[38;5;28mself\u001b[39m\u001b[38;5;241m.\u001b[39m_call_impl(\u001b[38;5;241m*\u001b[39margs, \u001b[38;5;241m*\u001b[39m\u001b[38;5;241m*\u001b[39mkwargs)\n",
      "File \u001b[0;32m~/anaconda3/lib/python3.11/site-packages/torch/nn/modules/module.py:1527\u001b[0m, in \u001b[0;36mModule._call_impl\u001b[0;34m(self, *args, **kwargs)\u001b[0m\n\u001b[1;32m   1522\u001b[0m \u001b[38;5;66;03m# If we don't have any hooks, we want to skip the rest of the logic in\u001b[39;00m\n\u001b[1;32m   1523\u001b[0m \u001b[38;5;66;03m# this function, and just call forward.\u001b[39;00m\n\u001b[1;32m   1524\u001b[0m \u001b[38;5;28;01mif\u001b[39;00m \u001b[38;5;129;01mnot\u001b[39;00m (\u001b[38;5;28mself\u001b[39m\u001b[38;5;241m.\u001b[39m_backward_hooks \u001b[38;5;129;01mor\u001b[39;00m \u001b[38;5;28mself\u001b[39m\u001b[38;5;241m.\u001b[39m_backward_pre_hooks \u001b[38;5;129;01mor\u001b[39;00m \u001b[38;5;28mself\u001b[39m\u001b[38;5;241m.\u001b[39m_forward_hooks \u001b[38;5;129;01mor\u001b[39;00m \u001b[38;5;28mself\u001b[39m\u001b[38;5;241m.\u001b[39m_forward_pre_hooks\n\u001b[1;32m   1525\u001b[0m         \u001b[38;5;129;01mor\u001b[39;00m _global_backward_pre_hooks \u001b[38;5;129;01mor\u001b[39;00m _global_backward_hooks\n\u001b[1;32m   1526\u001b[0m         \u001b[38;5;129;01mor\u001b[39;00m _global_forward_hooks \u001b[38;5;129;01mor\u001b[39;00m _global_forward_pre_hooks):\n\u001b[0;32m-> 1527\u001b[0m     \u001b[38;5;28;01mreturn\u001b[39;00m forward_call(\u001b[38;5;241m*\u001b[39margs, \u001b[38;5;241m*\u001b[39m\u001b[38;5;241m*\u001b[39mkwargs)\n\u001b[1;32m   1529\u001b[0m \u001b[38;5;28;01mtry\u001b[39;00m:\n\u001b[1;32m   1530\u001b[0m     result \u001b[38;5;241m=\u001b[39m \u001b[38;5;28;01mNone\u001b[39;00m\n",
      "Cell \u001b[0;32mIn[24], line 20\u001b[0m, in \u001b[0;36mWrappMnist.forward\u001b[0;34m(self, x)\u001b[0m\n\u001b[1;32m     17\u001b[0m \u001b[38;5;28;01mdef\u001b[39;00m \u001b[38;5;21mforward\u001b[39m(\u001b[38;5;28mself\u001b[39m, x):\n\u001b[1;32m     18\u001b[0m     x \u001b[38;5;241m=\u001b[39m \u001b[38;5;28mself\u001b[39m\u001b[38;5;241m.\u001b[39mtokenizer(x, return_tensors\u001b[38;5;241m=\u001b[39m\u001b[38;5;124m\"\u001b[39m\u001b[38;5;124mpt\u001b[39m\u001b[38;5;124m\"\u001b[39m)\n\u001b[0;32m---> 20\u001b[0m     x \u001b[38;5;241m=\u001b[39m \u001b[38;5;28mself\u001b[39m\u001b[38;5;241m.\u001b[39mconvnext2(\u001b[38;5;241m*\u001b[39m\u001b[38;5;241m*\u001b[39mx)\n\u001b[1;32m     21\u001b[0m     x \u001b[38;5;241m=\u001b[39m x\u001b[38;5;241m.\u001b[39mlogits\n\u001b[1;32m     23\u001b[0m     \u001b[38;5;28;01mreturn\u001b[39;00m x\n",
      "File \u001b[0;32m~/anaconda3/lib/python3.11/site-packages/torch/nn/modules/module.py:1518\u001b[0m, in \u001b[0;36mModule._wrapped_call_impl\u001b[0;34m(self, *args, **kwargs)\u001b[0m\n\u001b[1;32m   1516\u001b[0m     \u001b[38;5;28;01mreturn\u001b[39;00m \u001b[38;5;28mself\u001b[39m\u001b[38;5;241m.\u001b[39m_compiled_call_impl(\u001b[38;5;241m*\u001b[39margs, \u001b[38;5;241m*\u001b[39m\u001b[38;5;241m*\u001b[39mkwargs)  \u001b[38;5;66;03m# type: ignore[misc]\u001b[39;00m\n\u001b[1;32m   1517\u001b[0m \u001b[38;5;28;01melse\u001b[39;00m:\n\u001b[0;32m-> 1518\u001b[0m     \u001b[38;5;28;01mreturn\u001b[39;00m \u001b[38;5;28mself\u001b[39m\u001b[38;5;241m.\u001b[39m_call_impl(\u001b[38;5;241m*\u001b[39margs, \u001b[38;5;241m*\u001b[39m\u001b[38;5;241m*\u001b[39mkwargs)\n",
      "File \u001b[0;32m~/anaconda3/lib/python3.11/site-packages/torch/nn/modules/module.py:1527\u001b[0m, in \u001b[0;36mModule._call_impl\u001b[0;34m(self, *args, **kwargs)\u001b[0m\n\u001b[1;32m   1522\u001b[0m \u001b[38;5;66;03m# If we don't have any hooks, we want to skip the rest of the logic in\u001b[39;00m\n\u001b[1;32m   1523\u001b[0m \u001b[38;5;66;03m# this function, and just call forward.\u001b[39;00m\n\u001b[1;32m   1524\u001b[0m \u001b[38;5;28;01mif\u001b[39;00m \u001b[38;5;129;01mnot\u001b[39;00m (\u001b[38;5;28mself\u001b[39m\u001b[38;5;241m.\u001b[39m_backward_hooks \u001b[38;5;129;01mor\u001b[39;00m \u001b[38;5;28mself\u001b[39m\u001b[38;5;241m.\u001b[39m_backward_pre_hooks \u001b[38;5;129;01mor\u001b[39;00m \u001b[38;5;28mself\u001b[39m\u001b[38;5;241m.\u001b[39m_forward_hooks \u001b[38;5;129;01mor\u001b[39;00m \u001b[38;5;28mself\u001b[39m\u001b[38;5;241m.\u001b[39m_forward_pre_hooks\n\u001b[1;32m   1525\u001b[0m         \u001b[38;5;129;01mor\u001b[39;00m _global_backward_pre_hooks \u001b[38;5;129;01mor\u001b[39;00m _global_backward_hooks\n\u001b[1;32m   1526\u001b[0m         \u001b[38;5;129;01mor\u001b[39;00m _global_forward_hooks \u001b[38;5;129;01mor\u001b[39;00m _global_forward_pre_hooks):\n\u001b[0;32m-> 1527\u001b[0m     \u001b[38;5;28;01mreturn\u001b[39;00m forward_call(\u001b[38;5;241m*\u001b[39margs, \u001b[38;5;241m*\u001b[39m\u001b[38;5;241m*\u001b[39mkwargs)\n\u001b[1;32m   1529\u001b[0m \u001b[38;5;28;01mtry\u001b[39;00m:\n\u001b[1;32m   1530\u001b[0m     result \u001b[38;5;241m=\u001b[39m \u001b[38;5;28;01mNone\u001b[39;00m\n",
      "File \u001b[0;32m~/anaconda3/lib/python3.11/site-packages/transformers/models/convnextv2/modeling_convnextv2.py:453\u001b[0m, in \u001b[0;36mConvNextV2ForImageClassification.forward\u001b[0;34m(self, pixel_values, labels, output_hidden_states, return_dict)\u001b[0m\n\u001b[1;32m    445\u001b[0m \u001b[38;5;250m\u001b[39m\u001b[38;5;124mr\u001b[39m\u001b[38;5;124;03m\"\"\"\u001b[39;00m\n\u001b[1;32m    446\u001b[0m \u001b[38;5;124;03mlabels (`torch.LongTensor` of shape `(batch_size,)`, *optional*):\u001b[39;00m\n\u001b[1;32m    447\u001b[0m \u001b[38;5;124;03m    Labels for computing the image classification/regression loss. Indices should be in `[0, ...,\u001b[39;00m\n\u001b[1;32m    448\u001b[0m \u001b[38;5;124;03m    config.num_labels - 1]`. If `config.num_labels == 1` a regression loss is computed (Mean-Square loss), If\u001b[39;00m\n\u001b[1;32m    449\u001b[0m \u001b[38;5;124;03m    `config.num_labels > 1` a classification loss is computed (Cross-Entropy).\u001b[39;00m\n\u001b[1;32m    450\u001b[0m \u001b[38;5;124;03m\"\"\"\u001b[39;00m\n\u001b[1;32m    451\u001b[0m return_dict \u001b[38;5;241m=\u001b[39m return_dict \u001b[38;5;28;01mif\u001b[39;00m return_dict \u001b[38;5;129;01mis\u001b[39;00m \u001b[38;5;129;01mnot\u001b[39;00m \u001b[38;5;28;01mNone\u001b[39;00m \u001b[38;5;28;01melse\u001b[39;00m \u001b[38;5;28mself\u001b[39m\u001b[38;5;241m.\u001b[39mconfig\u001b[38;5;241m.\u001b[39muse_return_dict\n\u001b[0;32m--> 453\u001b[0m outputs \u001b[38;5;241m=\u001b[39m \u001b[38;5;28mself\u001b[39m\u001b[38;5;241m.\u001b[39mconvnextv2(pixel_values, output_hidden_states\u001b[38;5;241m=\u001b[39moutput_hidden_states, return_dict\u001b[38;5;241m=\u001b[39mreturn_dict)\n\u001b[1;32m    455\u001b[0m pooled_output \u001b[38;5;241m=\u001b[39m outputs\u001b[38;5;241m.\u001b[39mpooler_output \u001b[38;5;28;01mif\u001b[39;00m return_dict \u001b[38;5;28;01melse\u001b[39;00m outputs[\u001b[38;5;241m1\u001b[39m]\n\u001b[1;32m    457\u001b[0m logits \u001b[38;5;241m=\u001b[39m \u001b[38;5;28mself\u001b[39m\u001b[38;5;241m.\u001b[39mclassifier(pooled_output)\n",
      "File \u001b[0;32m~/anaconda3/lib/python3.11/site-packages/torch/nn/modules/module.py:1518\u001b[0m, in \u001b[0;36mModule._wrapped_call_impl\u001b[0;34m(self, *args, **kwargs)\u001b[0m\n\u001b[1;32m   1516\u001b[0m     \u001b[38;5;28;01mreturn\u001b[39;00m \u001b[38;5;28mself\u001b[39m\u001b[38;5;241m.\u001b[39m_compiled_call_impl(\u001b[38;5;241m*\u001b[39margs, \u001b[38;5;241m*\u001b[39m\u001b[38;5;241m*\u001b[39mkwargs)  \u001b[38;5;66;03m# type: ignore[misc]\u001b[39;00m\n\u001b[1;32m   1517\u001b[0m \u001b[38;5;28;01melse\u001b[39;00m:\n\u001b[0;32m-> 1518\u001b[0m     \u001b[38;5;28;01mreturn\u001b[39;00m \u001b[38;5;28mself\u001b[39m\u001b[38;5;241m.\u001b[39m_call_impl(\u001b[38;5;241m*\u001b[39margs, \u001b[38;5;241m*\u001b[39m\u001b[38;5;241m*\u001b[39mkwargs)\n",
      "File \u001b[0;32m~/anaconda3/lib/python3.11/site-packages/torch/nn/modules/module.py:1527\u001b[0m, in \u001b[0;36mModule._call_impl\u001b[0;34m(self, *args, **kwargs)\u001b[0m\n\u001b[1;32m   1522\u001b[0m \u001b[38;5;66;03m# If we don't have any hooks, we want to skip the rest of the logic in\u001b[39;00m\n\u001b[1;32m   1523\u001b[0m \u001b[38;5;66;03m# this function, and just call forward.\u001b[39;00m\n\u001b[1;32m   1524\u001b[0m \u001b[38;5;28;01mif\u001b[39;00m \u001b[38;5;129;01mnot\u001b[39;00m (\u001b[38;5;28mself\u001b[39m\u001b[38;5;241m.\u001b[39m_backward_hooks \u001b[38;5;129;01mor\u001b[39;00m \u001b[38;5;28mself\u001b[39m\u001b[38;5;241m.\u001b[39m_backward_pre_hooks \u001b[38;5;129;01mor\u001b[39;00m \u001b[38;5;28mself\u001b[39m\u001b[38;5;241m.\u001b[39m_forward_hooks \u001b[38;5;129;01mor\u001b[39;00m \u001b[38;5;28mself\u001b[39m\u001b[38;5;241m.\u001b[39m_forward_pre_hooks\n\u001b[1;32m   1525\u001b[0m         \u001b[38;5;129;01mor\u001b[39;00m _global_backward_pre_hooks \u001b[38;5;129;01mor\u001b[39;00m _global_backward_hooks\n\u001b[1;32m   1526\u001b[0m         \u001b[38;5;129;01mor\u001b[39;00m _global_forward_hooks \u001b[38;5;129;01mor\u001b[39;00m _global_forward_pre_hooks):\n\u001b[0;32m-> 1527\u001b[0m     \u001b[38;5;28;01mreturn\u001b[39;00m forward_call(\u001b[38;5;241m*\u001b[39margs, \u001b[38;5;241m*\u001b[39m\u001b[38;5;241m*\u001b[39mkwargs)\n\u001b[1;32m   1529\u001b[0m \u001b[38;5;28;01mtry\u001b[39;00m:\n\u001b[1;32m   1530\u001b[0m     result \u001b[38;5;241m=\u001b[39m \u001b[38;5;28;01mNone\u001b[39;00m\n",
      "File \u001b[0;32m~/anaconda3/lib/python3.11/site-packages/transformers/models/convnextv2/modeling_convnextv2.py:385\u001b[0m, in \u001b[0;36mConvNextV2Model.forward\u001b[0;34m(self, pixel_values, output_hidden_states, return_dict)\u001b[0m\n\u001b[1;32m    382\u001b[0m \u001b[38;5;28;01mif\u001b[39;00m pixel_values \u001b[38;5;129;01mis\u001b[39;00m \u001b[38;5;28;01mNone\u001b[39;00m:\n\u001b[1;32m    383\u001b[0m     \u001b[38;5;28;01mraise\u001b[39;00m \u001b[38;5;167;01mValueError\u001b[39;00m(\u001b[38;5;124m\"\u001b[39m\u001b[38;5;124mYou have to specify pixel_values\u001b[39m\u001b[38;5;124m\"\u001b[39m)\n\u001b[0;32m--> 385\u001b[0m embedding_output \u001b[38;5;241m=\u001b[39m \u001b[38;5;28mself\u001b[39m\u001b[38;5;241m.\u001b[39membeddings(pixel_values)\n\u001b[1;32m    387\u001b[0m encoder_outputs \u001b[38;5;241m=\u001b[39m \u001b[38;5;28mself\u001b[39m\u001b[38;5;241m.\u001b[39mencoder(\n\u001b[1;32m    388\u001b[0m     embedding_output,\n\u001b[1;32m    389\u001b[0m     output_hidden_states\u001b[38;5;241m=\u001b[39moutput_hidden_states,\n\u001b[1;32m    390\u001b[0m     return_dict\u001b[38;5;241m=\u001b[39mreturn_dict,\n\u001b[1;32m    391\u001b[0m )\n\u001b[1;32m    393\u001b[0m last_hidden_state \u001b[38;5;241m=\u001b[39m encoder_outputs[\u001b[38;5;241m0\u001b[39m]\n",
      "File \u001b[0;32m~/anaconda3/lib/python3.11/site-packages/torch/nn/modules/module.py:1518\u001b[0m, in \u001b[0;36mModule._wrapped_call_impl\u001b[0;34m(self, *args, **kwargs)\u001b[0m\n\u001b[1;32m   1516\u001b[0m     \u001b[38;5;28;01mreturn\u001b[39;00m \u001b[38;5;28mself\u001b[39m\u001b[38;5;241m.\u001b[39m_compiled_call_impl(\u001b[38;5;241m*\u001b[39margs, \u001b[38;5;241m*\u001b[39m\u001b[38;5;241m*\u001b[39mkwargs)  \u001b[38;5;66;03m# type: ignore[misc]\u001b[39;00m\n\u001b[1;32m   1517\u001b[0m \u001b[38;5;28;01melse\u001b[39;00m:\n\u001b[0;32m-> 1518\u001b[0m     \u001b[38;5;28;01mreturn\u001b[39;00m \u001b[38;5;28mself\u001b[39m\u001b[38;5;241m.\u001b[39m_call_impl(\u001b[38;5;241m*\u001b[39margs, \u001b[38;5;241m*\u001b[39m\u001b[38;5;241m*\u001b[39mkwargs)\n",
      "File \u001b[0;32m~/anaconda3/lib/python3.11/site-packages/torch/nn/modules/module.py:1527\u001b[0m, in \u001b[0;36mModule._call_impl\u001b[0;34m(self, *args, **kwargs)\u001b[0m\n\u001b[1;32m   1522\u001b[0m \u001b[38;5;66;03m# If we don't have any hooks, we want to skip the rest of the logic in\u001b[39;00m\n\u001b[1;32m   1523\u001b[0m \u001b[38;5;66;03m# this function, and just call forward.\u001b[39;00m\n\u001b[1;32m   1524\u001b[0m \u001b[38;5;28;01mif\u001b[39;00m \u001b[38;5;129;01mnot\u001b[39;00m (\u001b[38;5;28mself\u001b[39m\u001b[38;5;241m.\u001b[39m_backward_hooks \u001b[38;5;129;01mor\u001b[39;00m \u001b[38;5;28mself\u001b[39m\u001b[38;5;241m.\u001b[39m_backward_pre_hooks \u001b[38;5;129;01mor\u001b[39;00m \u001b[38;5;28mself\u001b[39m\u001b[38;5;241m.\u001b[39m_forward_hooks \u001b[38;5;129;01mor\u001b[39;00m \u001b[38;5;28mself\u001b[39m\u001b[38;5;241m.\u001b[39m_forward_pre_hooks\n\u001b[1;32m   1525\u001b[0m         \u001b[38;5;129;01mor\u001b[39;00m _global_backward_pre_hooks \u001b[38;5;129;01mor\u001b[39;00m _global_backward_hooks\n\u001b[1;32m   1526\u001b[0m         \u001b[38;5;129;01mor\u001b[39;00m _global_forward_hooks \u001b[38;5;129;01mor\u001b[39;00m _global_forward_pre_hooks):\n\u001b[0;32m-> 1527\u001b[0m     \u001b[38;5;28;01mreturn\u001b[39;00m forward_call(\u001b[38;5;241m*\u001b[39margs, \u001b[38;5;241m*\u001b[39m\u001b[38;5;241m*\u001b[39mkwargs)\n\u001b[1;32m   1529\u001b[0m \u001b[38;5;28;01mtry\u001b[39;00m:\n\u001b[1;32m   1530\u001b[0m     result \u001b[38;5;241m=\u001b[39m \u001b[38;5;28;01mNone\u001b[39;00m\n",
      "File \u001b[0;32m~/anaconda3/lib/python3.11/site-packages/transformers/models/convnextv2/modeling_convnextv2.py:164\u001b[0m, in \u001b[0;36mConvNextV2Embeddings.forward\u001b[0;34m(self, pixel_values)\u001b[0m\n\u001b[1;32m    162\u001b[0m num_channels \u001b[38;5;241m=\u001b[39m pixel_values\u001b[38;5;241m.\u001b[39mshape[\u001b[38;5;241m1\u001b[39m]\n\u001b[1;32m    163\u001b[0m \u001b[38;5;28;01mif\u001b[39;00m num_channels \u001b[38;5;241m!=\u001b[39m \u001b[38;5;28mself\u001b[39m\u001b[38;5;241m.\u001b[39mnum_channels:\n\u001b[0;32m--> 164\u001b[0m     \u001b[38;5;28;01mraise\u001b[39;00m \u001b[38;5;167;01mValueError\u001b[39;00m(\n\u001b[1;32m    165\u001b[0m         \u001b[38;5;124m\"\u001b[39m\u001b[38;5;124mMake sure that the channel dimension of the pixel values match with the one set in the configuration.\u001b[39m\u001b[38;5;124m\"\u001b[39m\n\u001b[1;32m    166\u001b[0m     )\n\u001b[1;32m    167\u001b[0m embeddings \u001b[38;5;241m=\u001b[39m \u001b[38;5;28mself\u001b[39m\u001b[38;5;241m.\u001b[39mpatch_embeddings(pixel_values)\n\u001b[1;32m    168\u001b[0m embeddings \u001b[38;5;241m=\u001b[39m \u001b[38;5;28mself\u001b[39m\u001b[38;5;241m.\u001b[39mlayernorm(embeddings)\n",
      "\u001b[0;31mValueError\u001b[0m: Make sure that the channel dimension of the pixel values match with the one set in the configuration."
     ]
    }
   ],
   "source": [
    "\"\"\"\n",
    "A simple walkthrough of how to code a convolutional neural network (CNN)\n",
    "using the PyTorch library. For demonstration we train it on the very\n",
    "common MNIST dataset of handwritten digits. In this code we go through\n",
    "how to create the network as well as initialize a loss function, optimizer,\n",
    "check accuracy and more.\n",
    "\n",
    "Programmed by Aladdin Persson\n",
    "* 2020-04-08: Initial coding\n",
    "* 2021-03-24: More detailed comments and small revision of the code\n",
    "* 2022-12-19: Small revision of code, checked that it works with latest PyTorch version\n",
    "\n",
    "\"\"\"\n",
    "\n",
    "# Imports\n",
    "import torch\n",
    "\n",
    "from torchvision.transforms import v2 \n",
    "import torch.nn.functional as F  # Parameterless functions, like (some) activation functions\n",
    "import torchvision.datasets as datasets  # Standard datasets\n",
    "import torchvision.transforms as transforms  # Transformations we can perform on our dataset for augmentation\n",
    "from torch import optim  # For optimizers like SGD, Adam, etc.\n",
    "from torch import nn  # All neural network modules\n",
    "from torch.utils.data import (\n",
    "    DataLoader,\n",
    ")  # Gives easier dataset managment by creating mini batches etc.\n",
    "from tqdm import tqdm  # For nice progress bar!\n",
    "import tensorboard\n",
    "from torch.utils.tensorboard import SummaryWriter\n",
    "# Simple CNN\n",
    "\n",
    "\n",
    "\n",
    "# Set device\n",
    "device = torch.device(\"cuda\" if torch.cuda.is_available() else \"cpu\")\n",
    "writer = SummaryWriter()\n",
    "# Hyperparameters\n",
    "in_channels = 1\n",
    "num_classes = 10\n",
    "learning_rate = 3e-4 # karpathy's constant\n",
    "batch_size = 4\n",
    "num_epochs = 3\n",
    "\n",
    "# Load Data\n",
    "train_dataset = datasets.MNIST(\n",
    "    root=\"dataset/\", train=True, transform=transforms.ToTensor(), download=True\n",
    ")\n",
    "test_dataset = datasets.MNIST(\n",
    "    root=\"dataset/\", train=False, transform=transforms.ToTensor(), download=True\n",
    ")\n",
    "\n",
    "train_loader = DataLoader(dataset=train_dataset, batch_size=batch_size, shuffle=True)\n",
    "test_loader = DataLoader(dataset=test_dataset, batch_size=batch_size, shuffle=True)\n",
    "\n",
    "# Initialize network\n",
    "model = WrappMnist()\n",
    "for name, param in model.named_parameters():\n",
    "    print(name)\n",
    "param_device = next(model.parameters()).device\n",
    "print(param_device)\n",
    "# Loss and optimizer\n",
    "criterion = nn.CrossEntropyLoss()\n",
    "optimizer = optim.Adam(model.parameters(), lr=learning_rate)\n",
    "# visualizationdataset = load_dataset(\"huggingface/cats-image\")\n",
    "image = dataset[\"test\"][\"image\"][0]\n",
    "\n",
    "transform = transforms.Compose([\n",
    "    transforms.ToTensor(),\n",
    "])\n",
    "\n",
    "# Apply the transformation to the image\n",
    "tensor_image = transform(image)\n",
    "\n",
    "# If you need to add a batch dimension (1 for single image)\n",
    "tensor_image = tensor_image.unsqueeze(0)\n",
    "\n",
    "# Now, tensor_image is a PyTorch tensor representing the JPEG image\n",
    "print(tensor_image.shape)\n",
    "\n",
    "dummy_input = tensor_image\n",
    "data = dummy_input\n",
    "#writer.add_graph(model,dummy_input)\n",
    "data = data.to(device=device)\n",
    "targets = torch.zeros(1)\n",
    "targets[0] = 2\n",
    "targets = targets.long()\n",
    "targets = targets.to(device=device)\n",
    "scores = model(data)\n",
    "scores = scores.to(device=device)\n",
    "loss = criterion(scores, targets)\n",
    "\n",
    "        # backward\n",
    "optimizer.zero_grad()\n",
    "loss.backward()\n",
    "\n",
    "        # gradient descent or adam step\n",
    "optimizer.step()\n"
   ]
  },
  {
   "cell_type": "code",
   "execution_count": 28,
   "id": "a6be1866",
   "metadata": {},
   "outputs": [
    {
     "name": "stderr",
     "output_type": "stream",
     "text": [
      "  0%|          | 0/15000 [00:00<?, ?it/s]"
     ]
    },
    {
     "name": "stdout",
     "output_type": "stream",
     "text": [
      "torch.Size([4, 1, 28, 28])\n"
     ]
    },
    {
     "name": "stderr",
     "output_type": "stream",
     "text": [
      "\n"
     ]
    },
    {
     "ename": "RuntimeError",
     "evalue": "Input type (torch.FloatTensor) and weight type (torch.cuda.FloatTensor) should be the same or input should be a MKLDNN tensor and weight is a dense tensor",
     "output_type": "error",
     "traceback": [
      "\u001b[0;31m---------------------------------------------------------------------------\u001b[0m",
      "\u001b[0;31mRuntimeError\u001b[0m                              Traceback (most recent call last)",
      "Cell \u001b[0;32mIn[28], line 52\u001b[0m\n\u001b[1;32m     48\u001b[0m     model\u001b[38;5;241m.\u001b[39mtrain()\n\u001b[1;32m     49\u001b[0m     \u001b[38;5;28;01mreturn\u001b[39;00m num_correct \u001b[38;5;241m/\u001b[39m num_samples\n\u001b[0;32m---> 52\u001b[0m \u001b[38;5;28mprint\u001b[39m(\u001b[38;5;124mf\u001b[39m\u001b[38;5;124m\"\u001b[39m\u001b[38;5;124mAccuracy on training set: \u001b[39m\u001b[38;5;132;01m{\u001b[39;00mcheck_accuracy(train_loader,\u001b[38;5;250m \u001b[39mmodel)\u001b[38;5;241m*\u001b[39m\u001b[38;5;241m100\u001b[39m\u001b[38;5;132;01m:\u001b[39;00m\u001b[38;5;124m.2f\u001b[39m\u001b[38;5;132;01m}\u001b[39;00m\u001b[38;5;124m\"\u001b[39m)\n\u001b[1;32m     53\u001b[0m \u001b[38;5;28mprint\u001b[39m(\u001b[38;5;124mf\u001b[39m\u001b[38;5;124m\"\u001b[39m\u001b[38;5;124mAccuracy on test set: \u001b[39m\u001b[38;5;132;01m{\u001b[39;00mcheck_accuracy(test_loader,\u001b[38;5;250m \u001b[39mmodel)\u001b[38;5;241m*\u001b[39m\u001b[38;5;241m100\u001b[39m\u001b[38;5;132;01m:\u001b[39;00m\u001b[38;5;124m.2f\u001b[39m\u001b[38;5;132;01m}\u001b[39;00m\u001b[38;5;124m\"\u001b[39m)\n",
      "Cell \u001b[0;32mIn[28], line 43\u001b[0m, in \u001b[0;36mcheck_accuracy\u001b[0;34m(loader, model)\u001b[0m\n\u001b[1;32m     39\u001b[0m x \u001b[38;5;241m=\u001b[39m x\u001b[38;5;241m.\u001b[39mto(device\u001b[38;5;241m=\u001b[39mdevice)\n\u001b[1;32m     40\u001b[0m y \u001b[38;5;241m=\u001b[39m y\u001b[38;5;241m.\u001b[39mto(device\u001b[38;5;241m=\u001b[39mdevice)\n\u001b[0;32m---> 43\u001b[0m scores \u001b[38;5;241m=\u001b[39m model(x)\n\u001b[1;32m     44\u001b[0m _, predictions \u001b[38;5;241m=\u001b[39m scores\u001b[38;5;241m.\u001b[39mmax(\u001b[38;5;241m1\u001b[39m)\n\u001b[1;32m     45\u001b[0m num_correct \u001b[38;5;241m+\u001b[39m\u001b[38;5;241m=\u001b[39m (predictions \u001b[38;5;241m==\u001b[39m y)\u001b[38;5;241m.\u001b[39msum()\n",
      "File \u001b[0;32m~/anaconda3/lib/python3.11/site-packages/torch/nn/modules/module.py:1518\u001b[0m, in \u001b[0;36mModule._wrapped_call_impl\u001b[0;34m(self, *args, **kwargs)\u001b[0m\n\u001b[1;32m   1516\u001b[0m     \u001b[38;5;28;01mreturn\u001b[39;00m \u001b[38;5;28mself\u001b[39m\u001b[38;5;241m.\u001b[39m_compiled_call_impl(\u001b[38;5;241m*\u001b[39margs, \u001b[38;5;241m*\u001b[39m\u001b[38;5;241m*\u001b[39mkwargs)  \u001b[38;5;66;03m# type: ignore[misc]\u001b[39;00m\n\u001b[1;32m   1517\u001b[0m \u001b[38;5;28;01melse\u001b[39;00m:\n\u001b[0;32m-> 1518\u001b[0m     \u001b[38;5;28;01mreturn\u001b[39;00m \u001b[38;5;28mself\u001b[39m\u001b[38;5;241m.\u001b[39m_call_impl(\u001b[38;5;241m*\u001b[39margs, \u001b[38;5;241m*\u001b[39m\u001b[38;5;241m*\u001b[39mkwargs)\n",
      "File \u001b[0;32m~/anaconda3/lib/python3.11/site-packages/torch/nn/modules/module.py:1527\u001b[0m, in \u001b[0;36mModule._call_impl\u001b[0;34m(self, *args, **kwargs)\u001b[0m\n\u001b[1;32m   1522\u001b[0m \u001b[38;5;66;03m# If we don't have any hooks, we want to skip the rest of the logic in\u001b[39;00m\n\u001b[1;32m   1523\u001b[0m \u001b[38;5;66;03m# this function, and just call forward.\u001b[39;00m\n\u001b[1;32m   1524\u001b[0m \u001b[38;5;28;01mif\u001b[39;00m \u001b[38;5;129;01mnot\u001b[39;00m (\u001b[38;5;28mself\u001b[39m\u001b[38;5;241m.\u001b[39m_backward_hooks \u001b[38;5;129;01mor\u001b[39;00m \u001b[38;5;28mself\u001b[39m\u001b[38;5;241m.\u001b[39m_backward_pre_hooks \u001b[38;5;129;01mor\u001b[39;00m \u001b[38;5;28mself\u001b[39m\u001b[38;5;241m.\u001b[39m_forward_hooks \u001b[38;5;129;01mor\u001b[39;00m \u001b[38;5;28mself\u001b[39m\u001b[38;5;241m.\u001b[39m_forward_pre_hooks\n\u001b[1;32m   1525\u001b[0m         \u001b[38;5;129;01mor\u001b[39;00m _global_backward_pre_hooks \u001b[38;5;129;01mor\u001b[39;00m _global_backward_hooks\n\u001b[1;32m   1526\u001b[0m         \u001b[38;5;129;01mor\u001b[39;00m _global_forward_hooks \u001b[38;5;129;01mor\u001b[39;00m _global_forward_pre_hooks):\n\u001b[0;32m-> 1527\u001b[0m     \u001b[38;5;28;01mreturn\u001b[39;00m forward_call(\u001b[38;5;241m*\u001b[39margs, \u001b[38;5;241m*\u001b[39m\u001b[38;5;241m*\u001b[39mkwargs)\n\u001b[1;32m   1529\u001b[0m \u001b[38;5;28;01mtry\u001b[39;00m:\n\u001b[1;32m   1530\u001b[0m     result \u001b[38;5;241m=\u001b[39m \u001b[38;5;28;01mNone\u001b[39;00m\n",
      "Cell \u001b[0;32mIn[24], line 20\u001b[0m, in \u001b[0;36mWrappMnist.forward\u001b[0;34m(self, x)\u001b[0m\n\u001b[1;32m     17\u001b[0m \u001b[38;5;28;01mdef\u001b[39;00m \u001b[38;5;21mforward\u001b[39m(\u001b[38;5;28mself\u001b[39m, x):\n\u001b[1;32m     18\u001b[0m     x \u001b[38;5;241m=\u001b[39m \u001b[38;5;28mself\u001b[39m\u001b[38;5;241m.\u001b[39mtokenizer(x, return_tensors\u001b[38;5;241m=\u001b[39m\u001b[38;5;124m\"\u001b[39m\u001b[38;5;124mpt\u001b[39m\u001b[38;5;124m\"\u001b[39m)\n\u001b[0;32m---> 20\u001b[0m     x \u001b[38;5;241m=\u001b[39m \u001b[38;5;28mself\u001b[39m\u001b[38;5;241m.\u001b[39mconvnext2(\u001b[38;5;241m*\u001b[39m\u001b[38;5;241m*\u001b[39mx)\n\u001b[1;32m     21\u001b[0m     x \u001b[38;5;241m=\u001b[39m x\u001b[38;5;241m.\u001b[39mlogits\n\u001b[1;32m     23\u001b[0m     \u001b[38;5;28;01mreturn\u001b[39;00m x\n",
      "File \u001b[0;32m~/anaconda3/lib/python3.11/site-packages/torch/nn/modules/module.py:1518\u001b[0m, in \u001b[0;36mModule._wrapped_call_impl\u001b[0;34m(self, *args, **kwargs)\u001b[0m\n\u001b[1;32m   1516\u001b[0m     \u001b[38;5;28;01mreturn\u001b[39;00m \u001b[38;5;28mself\u001b[39m\u001b[38;5;241m.\u001b[39m_compiled_call_impl(\u001b[38;5;241m*\u001b[39margs, \u001b[38;5;241m*\u001b[39m\u001b[38;5;241m*\u001b[39mkwargs)  \u001b[38;5;66;03m# type: ignore[misc]\u001b[39;00m\n\u001b[1;32m   1517\u001b[0m \u001b[38;5;28;01melse\u001b[39;00m:\n\u001b[0;32m-> 1518\u001b[0m     \u001b[38;5;28;01mreturn\u001b[39;00m \u001b[38;5;28mself\u001b[39m\u001b[38;5;241m.\u001b[39m_call_impl(\u001b[38;5;241m*\u001b[39margs, \u001b[38;5;241m*\u001b[39m\u001b[38;5;241m*\u001b[39mkwargs)\n",
      "File \u001b[0;32m~/anaconda3/lib/python3.11/site-packages/torch/nn/modules/module.py:1527\u001b[0m, in \u001b[0;36mModule._call_impl\u001b[0;34m(self, *args, **kwargs)\u001b[0m\n\u001b[1;32m   1522\u001b[0m \u001b[38;5;66;03m# If we don't have any hooks, we want to skip the rest of the logic in\u001b[39;00m\n\u001b[1;32m   1523\u001b[0m \u001b[38;5;66;03m# this function, and just call forward.\u001b[39;00m\n\u001b[1;32m   1524\u001b[0m \u001b[38;5;28;01mif\u001b[39;00m \u001b[38;5;129;01mnot\u001b[39;00m (\u001b[38;5;28mself\u001b[39m\u001b[38;5;241m.\u001b[39m_backward_hooks \u001b[38;5;129;01mor\u001b[39;00m \u001b[38;5;28mself\u001b[39m\u001b[38;5;241m.\u001b[39m_backward_pre_hooks \u001b[38;5;129;01mor\u001b[39;00m \u001b[38;5;28mself\u001b[39m\u001b[38;5;241m.\u001b[39m_forward_hooks \u001b[38;5;129;01mor\u001b[39;00m \u001b[38;5;28mself\u001b[39m\u001b[38;5;241m.\u001b[39m_forward_pre_hooks\n\u001b[1;32m   1525\u001b[0m         \u001b[38;5;129;01mor\u001b[39;00m _global_backward_pre_hooks \u001b[38;5;129;01mor\u001b[39;00m _global_backward_hooks\n\u001b[1;32m   1526\u001b[0m         \u001b[38;5;129;01mor\u001b[39;00m _global_forward_hooks \u001b[38;5;129;01mor\u001b[39;00m _global_forward_pre_hooks):\n\u001b[0;32m-> 1527\u001b[0m     \u001b[38;5;28;01mreturn\u001b[39;00m forward_call(\u001b[38;5;241m*\u001b[39margs, \u001b[38;5;241m*\u001b[39m\u001b[38;5;241m*\u001b[39mkwargs)\n\u001b[1;32m   1529\u001b[0m \u001b[38;5;28;01mtry\u001b[39;00m:\n\u001b[1;32m   1530\u001b[0m     result \u001b[38;5;241m=\u001b[39m \u001b[38;5;28;01mNone\u001b[39;00m\n",
      "File \u001b[0;32m~/anaconda3/lib/python3.11/site-packages/transformers/models/convnextv2/modeling_convnextv2.py:453\u001b[0m, in \u001b[0;36mConvNextV2ForImageClassification.forward\u001b[0;34m(self, pixel_values, labels, output_hidden_states, return_dict)\u001b[0m\n\u001b[1;32m    445\u001b[0m \u001b[38;5;250m\u001b[39m\u001b[38;5;124mr\u001b[39m\u001b[38;5;124;03m\"\"\"\u001b[39;00m\n\u001b[1;32m    446\u001b[0m \u001b[38;5;124;03mlabels (`torch.LongTensor` of shape `(batch_size,)`, *optional*):\u001b[39;00m\n\u001b[1;32m    447\u001b[0m \u001b[38;5;124;03m    Labels for computing the image classification/regression loss. Indices should be in `[0, ...,\u001b[39;00m\n\u001b[1;32m    448\u001b[0m \u001b[38;5;124;03m    config.num_labels - 1]`. If `config.num_labels == 1` a regression loss is computed (Mean-Square loss), If\u001b[39;00m\n\u001b[1;32m    449\u001b[0m \u001b[38;5;124;03m    `config.num_labels > 1` a classification loss is computed (Cross-Entropy).\u001b[39;00m\n\u001b[1;32m    450\u001b[0m \u001b[38;5;124;03m\"\"\"\u001b[39;00m\n\u001b[1;32m    451\u001b[0m return_dict \u001b[38;5;241m=\u001b[39m return_dict \u001b[38;5;28;01mif\u001b[39;00m return_dict \u001b[38;5;129;01mis\u001b[39;00m \u001b[38;5;129;01mnot\u001b[39;00m \u001b[38;5;28;01mNone\u001b[39;00m \u001b[38;5;28;01melse\u001b[39;00m \u001b[38;5;28mself\u001b[39m\u001b[38;5;241m.\u001b[39mconfig\u001b[38;5;241m.\u001b[39muse_return_dict\n\u001b[0;32m--> 453\u001b[0m outputs \u001b[38;5;241m=\u001b[39m \u001b[38;5;28mself\u001b[39m\u001b[38;5;241m.\u001b[39mconvnextv2(pixel_values, output_hidden_states\u001b[38;5;241m=\u001b[39moutput_hidden_states, return_dict\u001b[38;5;241m=\u001b[39mreturn_dict)\n\u001b[1;32m    455\u001b[0m pooled_output \u001b[38;5;241m=\u001b[39m outputs\u001b[38;5;241m.\u001b[39mpooler_output \u001b[38;5;28;01mif\u001b[39;00m return_dict \u001b[38;5;28;01melse\u001b[39;00m outputs[\u001b[38;5;241m1\u001b[39m]\n\u001b[1;32m    457\u001b[0m logits \u001b[38;5;241m=\u001b[39m \u001b[38;5;28mself\u001b[39m\u001b[38;5;241m.\u001b[39mclassifier(pooled_output)\n",
      "File \u001b[0;32m~/anaconda3/lib/python3.11/site-packages/torch/nn/modules/module.py:1518\u001b[0m, in \u001b[0;36mModule._wrapped_call_impl\u001b[0;34m(self, *args, **kwargs)\u001b[0m\n\u001b[1;32m   1516\u001b[0m     \u001b[38;5;28;01mreturn\u001b[39;00m \u001b[38;5;28mself\u001b[39m\u001b[38;5;241m.\u001b[39m_compiled_call_impl(\u001b[38;5;241m*\u001b[39margs, \u001b[38;5;241m*\u001b[39m\u001b[38;5;241m*\u001b[39mkwargs)  \u001b[38;5;66;03m# type: ignore[misc]\u001b[39;00m\n\u001b[1;32m   1517\u001b[0m \u001b[38;5;28;01melse\u001b[39;00m:\n\u001b[0;32m-> 1518\u001b[0m     \u001b[38;5;28;01mreturn\u001b[39;00m \u001b[38;5;28mself\u001b[39m\u001b[38;5;241m.\u001b[39m_call_impl(\u001b[38;5;241m*\u001b[39margs, \u001b[38;5;241m*\u001b[39m\u001b[38;5;241m*\u001b[39mkwargs)\n",
      "File \u001b[0;32m~/anaconda3/lib/python3.11/site-packages/torch/nn/modules/module.py:1527\u001b[0m, in \u001b[0;36mModule._call_impl\u001b[0;34m(self, *args, **kwargs)\u001b[0m\n\u001b[1;32m   1522\u001b[0m \u001b[38;5;66;03m# If we don't have any hooks, we want to skip the rest of the logic in\u001b[39;00m\n\u001b[1;32m   1523\u001b[0m \u001b[38;5;66;03m# this function, and just call forward.\u001b[39;00m\n\u001b[1;32m   1524\u001b[0m \u001b[38;5;28;01mif\u001b[39;00m \u001b[38;5;129;01mnot\u001b[39;00m (\u001b[38;5;28mself\u001b[39m\u001b[38;5;241m.\u001b[39m_backward_hooks \u001b[38;5;129;01mor\u001b[39;00m \u001b[38;5;28mself\u001b[39m\u001b[38;5;241m.\u001b[39m_backward_pre_hooks \u001b[38;5;129;01mor\u001b[39;00m \u001b[38;5;28mself\u001b[39m\u001b[38;5;241m.\u001b[39m_forward_hooks \u001b[38;5;129;01mor\u001b[39;00m \u001b[38;5;28mself\u001b[39m\u001b[38;5;241m.\u001b[39m_forward_pre_hooks\n\u001b[1;32m   1525\u001b[0m         \u001b[38;5;129;01mor\u001b[39;00m _global_backward_pre_hooks \u001b[38;5;129;01mor\u001b[39;00m _global_backward_hooks\n\u001b[1;32m   1526\u001b[0m         \u001b[38;5;129;01mor\u001b[39;00m _global_forward_hooks \u001b[38;5;129;01mor\u001b[39;00m _global_forward_pre_hooks):\n\u001b[0;32m-> 1527\u001b[0m     \u001b[38;5;28;01mreturn\u001b[39;00m forward_call(\u001b[38;5;241m*\u001b[39margs, \u001b[38;5;241m*\u001b[39m\u001b[38;5;241m*\u001b[39mkwargs)\n\u001b[1;32m   1529\u001b[0m \u001b[38;5;28;01mtry\u001b[39;00m:\n\u001b[1;32m   1530\u001b[0m     result \u001b[38;5;241m=\u001b[39m \u001b[38;5;28;01mNone\u001b[39;00m\n",
      "File \u001b[0;32m~/anaconda3/lib/python3.11/site-packages/transformers/models/convnextv2/modeling_convnextv2.py:385\u001b[0m, in \u001b[0;36mConvNextV2Model.forward\u001b[0;34m(self, pixel_values, output_hidden_states, return_dict)\u001b[0m\n\u001b[1;32m    382\u001b[0m \u001b[38;5;28;01mif\u001b[39;00m pixel_values \u001b[38;5;129;01mis\u001b[39;00m \u001b[38;5;28;01mNone\u001b[39;00m:\n\u001b[1;32m    383\u001b[0m     \u001b[38;5;28;01mraise\u001b[39;00m \u001b[38;5;167;01mValueError\u001b[39;00m(\u001b[38;5;124m\"\u001b[39m\u001b[38;5;124mYou have to specify pixel_values\u001b[39m\u001b[38;5;124m\"\u001b[39m)\n\u001b[0;32m--> 385\u001b[0m embedding_output \u001b[38;5;241m=\u001b[39m \u001b[38;5;28mself\u001b[39m\u001b[38;5;241m.\u001b[39membeddings(pixel_values)\n\u001b[1;32m    387\u001b[0m encoder_outputs \u001b[38;5;241m=\u001b[39m \u001b[38;5;28mself\u001b[39m\u001b[38;5;241m.\u001b[39mencoder(\n\u001b[1;32m    388\u001b[0m     embedding_output,\n\u001b[1;32m    389\u001b[0m     output_hidden_states\u001b[38;5;241m=\u001b[39moutput_hidden_states,\n\u001b[1;32m    390\u001b[0m     return_dict\u001b[38;5;241m=\u001b[39mreturn_dict,\n\u001b[1;32m    391\u001b[0m )\n\u001b[1;32m    393\u001b[0m last_hidden_state \u001b[38;5;241m=\u001b[39m encoder_outputs[\u001b[38;5;241m0\u001b[39m]\n",
      "File \u001b[0;32m~/anaconda3/lib/python3.11/site-packages/torch/nn/modules/module.py:1518\u001b[0m, in \u001b[0;36mModule._wrapped_call_impl\u001b[0;34m(self, *args, **kwargs)\u001b[0m\n\u001b[1;32m   1516\u001b[0m     \u001b[38;5;28;01mreturn\u001b[39;00m \u001b[38;5;28mself\u001b[39m\u001b[38;5;241m.\u001b[39m_compiled_call_impl(\u001b[38;5;241m*\u001b[39margs, \u001b[38;5;241m*\u001b[39m\u001b[38;5;241m*\u001b[39mkwargs)  \u001b[38;5;66;03m# type: ignore[misc]\u001b[39;00m\n\u001b[1;32m   1517\u001b[0m \u001b[38;5;28;01melse\u001b[39;00m:\n\u001b[0;32m-> 1518\u001b[0m     \u001b[38;5;28;01mreturn\u001b[39;00m \u001b[38;5;28mself\u001b[39m\u001b[38;5;241m.\u001b[39m_call_impl(\u001b[38;5;241m*\u001b[39margs, \u001b[38;5;241m*\u001b[39m\u001b[38;5;241m*\u001b[39mkwargs)\n",
      "File \u001b[0;32m~/anaconda3/lib/python3.11/site-packages/torch/nn/modules/module.py:1527\u001b[0m, in \u001b[0;36mModule._call_impl\u001b[0;34m(self, *args, **kwargs)\u001b[0m\n\u001b[1;32m   1522\u001b[0m \u001b[38;5;66;03m# If we don't have any hooks, we want to skip the rest of the logic in\u001b[39;00m\n\u001b[1;32m   1523\u001b[0m \u001b[38;5;66;03m# this function, and just call forward.\u001b[39;00m\n\u001b[1;32m   1524\u001b[0m \u001b[38;5;28;01mif\u001b[39;00m \u001b[38;5;129;01mnot\u001b[39;00m (\u001b[38;5;28mself\u001b[39m\u001b[38;5;241m.\u001b[39m_backward_hooks \u001b[38;5;129;01mor\u001b[39;00m \u001b[38;5;28mself\u001b[39m\u001b[38;5;241m.\u001b[39m_backward_pre_hooks \u001b[38;5;129;01mor\u001b[39;00m \u001b[38;5;28mself\u001b[39m\u001b[38;5;241m.\u001b[39m_forward_hooks \u001b[38;5;129;01mor\u001b[39;00m \u001b[38;5;28mself\u001b[39m\u001b[38;5;241m.\u001b[39m_forward_pre_hooks\n\u001b[1;32m   1525\u001b[0m         \u001b[38;5;129;01mor\u001b[39;00m _global_backward_pre_hooks \u001b[38;5;129;01mor\u001b[39;00m _global_backward_hooks\n\u001b[1;32m   1526\u001b[0m         \u001b[38;5;129;01mor\u001b[39;00m _global_forward_hooks \u001b[38;5;129;01mor\u001b[39;00m _global_forward_pre_hooks):\n\u001b[0;32m-> 1527\u001b[0m     \u001b[38;5;28;01mreturn\u001b[39;00m forward_call(\u001b[38;5;241m*\u001b[39margs, \u001b[38;5;241m*\u001b[39m\u001b[38;5;241m*\u001b[39mkwargs)\n\u001b[1;32m   1529\u001b[0m \u001b[38;5;28;01mtry\u001b[39;00m:\n\u001b[1;32m   1530\u001b[0m     result \u001b[38;5;241m=\u001b[39m \u001b[38;5;28;01mNone\u001b[39;00m\n",
      "File \u001b[0;32m~/anaconda3/lib/python3.11/site-packages/transformers/models/convnextv2/modeling_convnextv2.py:167\u001b[0m, in \u001b[0;36mConvNextV2Embeddings.forward\u001b[0;34m(self, pixel_values)\u001b[0m\n\u001b[1;32m    163\u001b[0m \u001b[38;5;28;01mif\u001b[39;00m num_channels \u001b[38;5;241m!=\u001b[39m \u001b[38;5;28mself\u001b[39m\u001b[38;5;241m.\u001b[39mnum_channels:\n\u001b[1;32m    164\u001b[0m     \u001b[38;5;28;01mraise\u001b[39;00m \u001b[38;5;167;01mValueError\u001b[39;00m(\n\u001b[1;32m    165\u001b[0m         \u001b[38;5;124m\"\u001b[39m\u001b[38;5;124mMake sure that the channel dimension of the pixel values match with the one set in the configuration.\u001b[39m\u001b[38;5;124m\"\u001b[39m\n\u001b[1;32m    166\u001b[0m     )\n\u001b[0;32m--> 167\u001b[0m embeddings \u001b[38;5;241m=\u001b[39m \u001b[38;5;28mself\u001b[39m\u001b[38;5;241m.\u001b[39mpatch_embeddings(pixel_values)\n\u001b[1;32m    168\u001b[0m embeddings \u001b[38;5;241m=\u001b[39m \u001b[38;5;28mself\u001b[39m\u001b[38;5;241m.\u001b[39mlayernorm(embeddings)\n\u001b[1;32m    169\u001b[0m \u001b[38;5;28;01mreturn\u001b[39;00m embeddings\n",
      "File \u001b[0;32m~/anaconda3/lib/python3.11/site-packages/torch/nn/modules/module.py:1518\u001b[0m, in \u001b[0;36mModule._wrapped_call_impl\u001b[0;34m(self, *args, **kwargs)\u001b[0m\n\u001b[1;32m   1516\u001b[0m     \u001b[38;5;28;01mreturn\u001b[39;00m \u001b[38;5;28mself\u001b[39m\u001b[38;5;241m.\u001b[39m_compiled_call_impl(\u001b[38;5;241m*\u001b[39margs, \u001b[38;5;241m*\u001b[39m\u001b[38;5;241m*\u001b[39mkwargs)  \u001b[38;5;66;03m# type: ignore[misc]\u001b[39;00m\n\u001b[1;32m   1517\u001b[0m \u001b[38;5;28;01melse\u001b[39;00m:\n\u001b[0;32m-> 1518\u001b[0m     \u001b[38;5;28;01mreturn\u001b[39;00m \u001b[38;5;28mself\u001b[39m\u001b[38;5;241m.\u001b[39m_call_impl(\u001b[38;5;241m*\u001b[39margs, \u001b[38;5;241m*\u001b[39m\u001b[38;5;241m*\u001b[39mkwargs)\n",
      "File \u001b[0;32m~/anaconda3/lib/python3.11/site-packages/torch/nn/modules/module.py:1527\u001b[0m, in \u001b[0;36mModule._call_impl\u001b[0;34m(self, *args, **kwargs)\u001b[0m\n\u001b[1;32m   1522\u001b[0m \u001b[38;5;66;03m# If we don't have any hooks, we want to skip the rest of the logic in\u001b[39;00m\n\u001b[1;32m   1523\u001b[0m \u001b[38;5;66;03m# this function, and just call forward.\u001b[39;00m\n\u001b[1;32m   1524\u001b[0m \u001b[38;5;28;01mif\u001b[39;00m \u001b[38;5;129;01mnot\u001b[39;00m (\u001b[38;5;28mself\u001b[39m\u001b[38;5;241m.\u001b[39m_backward_hooks \u001b[38;5;129;01mor\u001b[39;00m \u001b[38;5;28mself\u001b[39m\u001b[38;5;241m.\u001b[39m_backward_pre_hooks \u001b[38;5;129;01mor\u001b[39;00m \u001b[38;5;28mself\u001b[39m\u001b[38;5;241m.\u001b[39m_forward_hooks \u001b[38;5;129;01mor\u001b[39;00m \u001b[38;5;28mself\u001b[39m\u001b[38;5;241m.\u001b[39m_forward_pre_hooks\n\u001b[1;32m   1525\u001b[0m         \u001b[38;5;129;01mor\u001b[39;00m _global_backward_pre_hooks \u001b[38;5;129;01mor\u001b[39;00m _global_backward_hooks\n\u001b[1;32m   1526\u001b[0m         \u001b[38;5;129;01mor\u001b[39;00m _global_forward_hooks \u001b[38;5;129;01mor\u001b[39;00m _global_forward_pre_hooks):\n\u001b[0;32m-> 1527\u001b[0m     \u001b[38;5;28;01mreturn\u001b[39;00m forward_call(\u001b[38;5;241m*\u001b[39margs, \u001b[38;5;241m*\u001b[39m\u001b[38;5;241m*\u001b[39mkwargs)\n\u001b[1;32m   1529\u001b[0m \u001b[38;5;28;01mtry\u001b[39;00m:\n\u001b[1;32m   1530\u001b[0m     result \u001b[38;5;241m=\u001b[39m \u001b[38;5;28;01mNone\u001b[39;00m\n",
      "File \u001b[0;32m~/anaconda3/lib/python3.11/site-packages/torch/nn/modules/conv.py:460\u001b[0m, in \u001b[0;36mConv2d.forward\u001b[0;34m(self, input)\u001b[0m\n\u001b[1;32m    459\u001b[0m \u001b[38;5;28;01mdef\u001b[39;00m \u001b[38;5;21mforward\u001b[39m(\u001b[38;5;28mself\u001b[39m, \u001b[38;5;28minput\u001b[39m: Tensor) \u001b[38;5;241m-\u001b[39m\u001b[38;5;241m>\u001b[39m Tensor:\n\u001b[0;32m--> 460\u001b[0m     \u001b[38;5;28;01mreturn\u001b[39;00m \u001b[38;5;28mself\u001b[39m\u001b[38;5;241m.\u001b[39m_conv_forward(\u001b[38;5;28minput\u001b[39m, \u001b[38;5;28mself\u001b[39m\u001b[38;5;241m.\u001b[39mweight, \u001b[38;5;28mself\u001b[39m\u001b[38;5;241m.\u001b[39mbias)\n",
      "File \u001b[0;32m~/anaconda3/lib/python3.11/site-packages/torch/nn/modules/conv.py:456\u001b[0m, in \u001b[0;36mConv2d._conv_forward\u001b[0;34m(self, input, weight, bias)\u001b[0m\n\u001b[1;32m    452\u001b[0m \u001b[38;5;28;01mif\u001b[39;00m \u001b[38;5;28mself\u001b[39m\u001b[38;5;241m.\u001b[39mpadding_mode \u001b[38;5;241m!=\u001b[39m \u001b[38;5;124m'\u001b[39m\u001b[38;5;124mzeros\u001b[39m\u001b[38;5;124m'\u001b[39m:\n\u001b[1;32m    453\u001b[0m     \u001b[38;5;28;01mreturn\u001b[39;00m F\u001b[38;5;241m.\u001b[39mconv2d(F\u001b[38;5;241m.\u001b[39mpad(\u001b[38;5;28minput\u001b[39m, \u001b[38;5;28mself\u001b[39m\u001b[38;5;241m.\u001b[39m_reversed_padding_repeated_twice, mode\u001b[38;5;241m=\u001b[39m\u001b[38;5;28mself\u001b[39m\u001b[38;5;241m.\u001b[39mpadding_mode),\n\u001b[1;32m    454\u001b[0m                     weight, bias, \u001b[38;5;28mself\u001b[39m\u001b[38;5;241m.\u001b[39mstride,\n\u001b[1;32m    455\u001b[0m                     _pair(\u001b[38;5;241m0\u001b[39m), \u001b[38;5;28mself\u001b[39m\u001b[38;5;241m.\u001b[39mdilation, \u001b[38;5;28mself\u001b[39m\u001b[38;5;241m.\u001b[39mgroups)\n\u001b[0;32m--> 456\u001b[0m \u001b[38;5;28;01mreturn\u001b[39;00m F\u001b[38;5;241m.\u001b[39mconv2d(\u001b[38;5;28minput\u001b[39m, weight, bias, \u001b[38;5;28mself\u001b[39m\u001b[38;5;241m.\u001b[39mstride,\n\u001b[1;32m    457\u001b[0m                 \u001b[38;5;28mself\u001b[39m\u001b[38;5;241m.\u001b[39mpadding, \u001b[38;5;28mself\u001b[39m\u001b[38;5;241m.\u001b[39mdilation, \u001b[38;5;28mself\u001b[39m\u001b[38;5;241m.\u001b[39mgroups)\n",
      "\u001b[0;31mRuntimeError\u001b[0m: Input type (torch.FloatTensor) and weight type (torch.cuda.FloatTensor) should be the same or input should be a MKLDNN tensor and weight is a dense tensor"
     ]
    }
   ],
   "source": [
    "# Train Network\n",
    "for epoch in range(num_epochs):\n",
    "    for batch_idx, (data, targets) in enumerate(tqdm(train_loader)):\n",
    "        # Get data to cuda if possible\n",
    "        print(data.shape)\n",
    "        break\n",
    "       \n",
    "        if(data.shape[1] == 1):\n",
    "            data = torch.tile(data, (1,1,1,1))\n",
    "        \n",
    "        \n",
    "\n",
    "        # forward\n",
    "       \n",
    "        data = data.to(device=device)\n",
    "        targets = targets.to(device=device)\n",
    "        \n",
    "        scores = model(data)\n",
    "        loss = criterion(scores, targets)\n",
    "\n",
    "        # backward\n",
    "        optimizer.zero_grad()\n",
    "        loss.backward()\n",
    "\n",
    "        # gradient descent or adam step\n",
    "        optimizer.step()\n",
    "        print(\"worked\")\n",
    "    break\n",
    "\n",
    "\n",
    "# Check accuracy on training & test to see how good our model\n",
    "def check_accuracy(loader, model):\n",
    "    num_correct = 0\n",
    "    num_samples = 0\n",
    "    model.eval()\n",
    "\n",
    "    with torch.no_grad():\n",
    "        for x, y in loader:\n",
    "            x = x.to(device=device)\n",
    "            y = y.to(device=device)\n",
    "            \n",
    "\n",
    "            scores = model(x)\n",
    "            _, predictions = scores.max(1)\n",
    "            num_correct += (predictions == y).sum()\n",
    "            num_samples += predictions.size(0)\n",
    "\n",
    "    model.train()\n",
    "    return num_correct / num_samples\n",
    "\n",
    "\n",
    "print(f\"Accuracy on training set: {check_accuracy(train_loader, model)*100:.2f}\")\n",
    "print(f\"Accuracy on test set: {check_accuracy(test_loader, model)*100:.2f}\")"
   ]
  },
  {
   "cell_type": "code",
   "execution_count": 23,
   "id": "510f9f56",
   "metadata": {},
   "outputs": [
    {
     "ename": "AttributeError",
     "evalue": "'super' object has no attribute '__'",
     "output_type": "error",
     "traceback": [
      "\u001b[0;31m---------------------------------------------------------------------------\u001b[0m",
      "\u001b[0;31mAttributeError\u001b[0m                            Traceback (most recent call last)",
      "Cell \u001b[0;32mIn[23], line 18\u001b[0m\n\u001b[1;32m     16\u001b[0m dataset \u001b[38;5;241m=\u001b[39m load_dataset(\u001b[38;5;124m\"\u001b[39m\u001b[38;5;124mhuggingface/cats-image\u001b[39m\u001b[38;5;124m\"\u001b[39m)\n\u001b[1;32m     17\u001b[0m image \u001b[38;5;241m=\u001b[39m dataset[\u001b[38;5;124m\"\u001b[39m\u001b[38;5;124mtest\u001b[39m\u001b[38;5;124m\"\u001b[39m][\u001b[38;5;124m\"\u001b[39m\u001b[38;5;124mimage\u001b[39m\u001b[38;5;124m\"\u001b[39m][\u001b[38;5;241m0\u001b[39m]\n\u001b[0;32m---> 18\u001b[0m model \u001b[38;5;241m=\u001b[39m Wrapp()\n\u001b[1;32m     19\u001b[0m output \u001b[38;5;241m=\u001b[39m model(image)\n\u001b[1;32m     21\u001b[0m \u001b[38;5;66;03m# model predicts one of the 1000 ImageNet classes\u001b[39;00m\n",
      "Cell \u001b[0;32mIn[8], line 6\u001b[0m, in \u001b[0;36mWrapp.__init__\u001b[0;34m(self, in_channels, num_classes)\u001b[0m\n\u001b[1;32m      5\u001b[0m \u001b[38;5;28;01mdef\u001b[39;00m \u001b[38;5;21m__init__\u001b[39m(\u001b[38;5;28mself\u001b[39m, in_channels\u001b[38;5;241m=\u001b[39m\u001b[38;5;241m3\u001b[39m, num_classes\u001b[38;5;241m=\u001b[39m\u001b[38;5;241m1000\u001b[39m):\n\u001b[0;32m----> 6\u001b[0m     \u001b[38;5;28msuper\u001b[39m(Wrapp, \u001b[38;5;28mself\u001b[39m)\u001b[38;5;241m.\u001b[39m__\n\u001b[1;32m      7\u001b[0m     init__()\n\u001b[1;32m      8\u001b[0m     \u001b[38;5;28mself\u001b[39m\u001b[38;5;241m.\u001b[39mtokenizer \u001b[38;5;241m=\u001b[39m AutoImageProcessor\u001b[38;5;241m.\u001b[39mfrom_pretrained(\u001b[38;5;124m\"\u001b[39m\u001b[38;5;124mfacebook/convnextv2-tiny-1k-224\u001b[39m\u001b[38;5;124m\"\u001b[39m)\n",
      "\u001b[0;31mAttributeError\u001b[0m: 'super' object has no attribute '__'"
     ]
    }
   ],
   "source": [
    "from transformers import AutoImageProcessor, ConvNextV2ForImageClassification,ConvNextV2Config\n",
    "import tensorboard\n",
    "from torch.utils.tensorboard import SummaryWriter\n",
    "import torchvision\n",
    "import transformers\n",
    "\n",
    "\n",
    "import torch\n",
    "from datasets import load_dataset\n",
    "temp = SummaryWriter()\n",
    "t = ConvNextV2ForImageClassification.from_pretrained(\"facebook/convnextv2-tiny-1k-224\")\n",
    "config = ConvNextV2Config.from_pretrained(\"facebook/convnextv2-tiny-1k-224\")\n",
    "config.num_channels = 1 \n",
    "model= ConvNextV2ForImageClassification(config)\n",
    "\n",
    "dataset = load_dataset(\"huggingface/cats-image\")\n",
    "image = dataset[\"test\"][\"image\"][0]\n",
    "model = Wrapp()\n",
    "output = model(image)\n",
    "\n",
    "# model predicts one of the 1000 ImageNet classes\n",
    "\n",
    "predicted_label = output.argmax(-1).item()\n",
    "\n",
    "print(predicted_label)\n",
    "\n"
   ]
  },
  {
   "cell_type": "code",
   "execution_count": null,
   "id": "b9b761f3",
   "metadata": {},
   "outputs": [],
   "source": [
    "print(image_processor)"
   ]
  },
  {
   "cell_type": "code",
   "execution_count": null,
   "id": "18fa2dc9",
   "metadata": {},
   "outputs": [],
   "source": [
    "\n",
    "image_processor = AutoImageProcessor.from_pretrained(\"facebook/convnextv2-tiny-1k-224\")\n",
    "image_processor.normalize?"
   ]
  },
  {
   "cell_type": "code",
   "execution_count": null,
   "id": "1658f20a",
   "metadata": {},
   "outputs": [],
   "source": [
    "print(dir(ConvNextV2ForImageClassification))"
   ]
  },
  {
   "cell_type": "code",
   "execution_count": 1,
   "id": "6812fb6b",
   "metadata": {},
   "outputs": [],
   "source": [
    "#subprocess.run([\"ls\", \"-a\"], capture_output=True, std_out=PIPE)\n",
    "def make_executable(script_path):\n",
    "    try:\n",
    "        # Add execute permissions to the script\n",
    "        os.chmod(script_path, os.stat(script_path).st_mode | 0o111)\n",
    "        print(f\"Successfully made '{script_path}' executable.\")\n",
    "    except OSError as e:\n",
    "        print(f\"Error making '{script_path}' executable: {e}\")"
   ]
  },
  {
   "cell_type": "code",
   "execution_count": 3,
   "id": "efdeee6b",
   "metadata": {},
   "outputs": [
    {
     "name": "stdout",
     "output_type": "stream",
     "text": [
      "b'Domain_generalization_experiments.ipynb\\n.ipynb_checkpoints\\n'\n",
      "Successfully made 'TDANN0resnet50.sh' executable.\n",
      "Successfully made 'TDANN0ConvNext.sh' executable.\n",
      "Successfully made 'TDANN1resnet50.sh' executable.\n",
      "Successfully made 'TDANN1ConvNext.sh' executable.\n",
      "Successfully made 'TDANN2resnet50.sh' executable.\n",
      "Successfully made 'TDANN2ConvNext.sh' executable.\n",
      "Successfully made 'TDANN3resnet50.sh' executable.\n",
      "Successfully made 'TDANN3ConvNext.sh' executable.\n"
     ]
    }
   ],
   "source": [
    "import subprocess\n",
    "from subprocess import PIPE\n",
    "import os\n",
    "p1 = subprocess.Popen([\"ls\",\"-a\"], stdout=PIPE)\n",
    "p2 = subprocess.Popen([\"grep\", \"ipynb\"], stdin=p1.stdout, stdout=PIPE)\n",
    "p1.stdout.close()  # Allow p1 to receive a SIGPIPE if p2 exits.\n",
    "output = p2.communicate()[0]\n",
    "print(output)\n",
    "script_lines = [\n",
    "    \"#!/bin/bash\",\n",
    "    \"#SBATCH --nodes=1\",\n",
    "    \"#SBATCH --cpus-per-task=2\",\n",
    "    \"#SBATCH --time=2:00\",\n",
    "    \"#SBATCH --mem=20000mb\",\n",
    "    \"\",\n",
    "    \"module load devel/cuda/11.8\",\n",
    "    \"module load devel/miniconda/23.9.0-py3.9.15\",\n",
    "    \"module load devel/python/3.11.7_intel_2021.4.0\",\n",
    "    \"module load devel/cudnn/9.2\",\n",
    "    \"# cd foldername von venv\",\n",
    "    \"cd UniDG\",\n",
    "    \"# source venv/bin/activate\"\n",
    "]\n",
    "algorithms = [\"CORAL\",\"Mixup\",\"ERM\",\"Inter_domain_adaptation\"]\n",
    "test_environments = [0,1,2,3]\n",
    "backbones = [\"resnet50\", \"ConvNext\"]\n",
    "adapt_algorithm =\"T3A\"\n",
    "\n",
    "command_firstpart = \"python -m domainbed.scripts.train       --data_dir=./data     --dataset TerraIncognita\"\n",
    "\n",
    "adapt = False\n",
    "\n",
    "\n",
    "for algorithm in algorithms:\n",
    "    for test_env in test_environments:\n",
    "        for backbone in backbones:\n",
    "            if adapt== True:\n",
    "                path = \"TAdapt_{algorithm}{test_env}{backbone}.sh\".format(algorithm=algorithm,backbone=backbone,test_env=test_env)\n",
    "                \n",
    "            else:\n",
    "                path = \"T{algorithm}{test_env}{backbone}.sh\".format(algorithm=algorithm,backbone=backbone,test_env=test_env)\n",
    "                \n",
    "            \n",
    "            \n",
    "            try:\n",
    "                with open(path,'a') as file:\n",
    "                    for line in script_lines:\n",
    "                        file.write(line + '\\n')\n",
    "\n",
    "                    if adapt == True:\n",
    "                        unsupervised_adaptation = \"python -m domainbed.scripts.unsupervised_adaptation        --input_dir my/pretrain/{algorithm}/TerraIncognita/{backbone}/{test_env}       --adapt_algorithm={adapt_algorithm}\".format(algorithm=algorithm,backbone=backbone,test_env=test_env,adapt_algorithm=adapt_algorithm)\n",
    "                        command = unsupervised_adaptation\n",
    "                    else:\n",
    "                        command_secondpart = '  --algorithm {algorithm}        --test_env {test_env} --hparams \"{{\\\\\"backbone\\\\\": \\\\\"{backbone}\\\\\"}}\"     --output_dir my/pretrain/{algorithm}/TerraIncognita/{backbone}/{test_env}'.format(algorithm=algorithm, backbone=backbone, test_env = test_env)\n",
    "                        command = command_firstpart+command_secondpart\n",
    "                        \n",
    "                        \n",
    "                    \n",
    "                    file.write(command)\n",
    "                    os.utime(path)\n",
    "            except Exception as e:\n",
    "                print(f\"Error touching file '{filename}': {e}\")\n",
    "            make_executable(path)\n",
    "\n",
    "\n",
    "    \n",
    "\n",
    "\n",
    "\n",
    "\n",
    "\n"
   ]
  },
  {
   "cell_type": "code",
   "execution_count": 30,
   "id": "f135eecc",
   "metadata": {},
   "outputs": [
    {
     "name": "stdout",
     "output_type": "stream",
     "text": [
      "env0_in_acc\n",
      "env0_in_ent\n",
      "env0_out_acc\n",
      "env0_out_ent\n",
      "env1_in_acc\n",
      "env1_in_ent\n",
      "env1_out_acc\n",
      "env1_out_ent\n",
      "env2_in_acc\n",
      "env2_in_ent\n",
      "env2_out_acc\n",
      "env2_out_ent\n",
      "env3_in_acc\n",
      "env3_in_ent\n",
      "env3_out_acc\n",
      "env3_out_ent\n",
      "['test_env', 'backbone', 'dataset', 'h1', 'env0_in_acc', 'env0_in_ent', 'env0_out_acc', 'env0_out_ent', 'env1_in_acc', 'env1_in_ent', 'env1_out_acc', 'env1_out_ent', 'env2_in_acc', 'env2_in_ent', 'env2_out_acc', 'env2_out_ent', 'env3_in_acc', 'env3_in_ent', 'env3_out_acc', 'env3_out_ent', 'filter_K', 'gamma', 'lambd']\n",
      "   test_env  backbone          dataset  env0_in_acc   env0_in_ent  \\\n",
      "0         1  ConvNext  TerraIncongnita     0.898761  1.449553e-02   \n",
      "1         1  resnet50   TerraIncognita     0.603744  2.884490e-02   \n",
      "2         2  resnet50   TerraIncognita     0.672291  2.700609e-02   \n",
      "3         3  resnet50   TerraIncognita     0.354073  3.222888e-02   \n",
      "4         0  resnet50   TerraIncognita     0.202742  2.459363e-09   \n",
      "5         3  ConvNext   TerraIncognita     0.621408  7.235391e-03   \n",
      "6         2  ConvNext   TerraIncognita     0.848141  1.458260e-02   \n",
      "7         0  ConvNext  TerraIncongnita     0.202742  9.882219e-11   \n",
      "\n",
      "   env0_out_acc  env0_out_ent  env1_in_acc   env1_in_ent  env1_out_acc  \\\n",
      "0      0.200422  1.298103e-06     0.457440  6.786958e-12      0.473549   \n",
      "1      0.584388  2.300208e-03     0.099884  1.479731e-03      0.090909   \n",
      "2      0.521097  4.468328e-09     0.020670  1.688295e-08      0.017463   \n",
      "3      0.200422  1.870765e-08     0.488766  1.898810e-03      0.473549   \n",
      "4      0.200422  5.184532e-09     0.492618  7.489278e-03      0.473549   \n",
      "5      0.521097  7.355305e-15     0.025292  2.862083e-03      0.017463   \n",
      "6      0.521097  8.643014e-14     0.027475  1.081547e-03      0.017463   \n",
      "7      0.200422  2.603313e-11     0.647965  9.414867e-03      0.473549   \n",
      "\n",
      "   env1_out_ent  env2_in_acc   env2_in_ent  env2_out_acc  env2_out_ent  \\\n",
      "0  8.902836e-14     0.600126  3.249991e-02      0.185139  6.705441e-11   \n",
      "1  3.928968e-04     0.103589  4.730969e-03      0.085642  2.518118e-03   \n",
      "2  4.635573e-09     0.100756  1.573988e-09      0.084383  1.552304e-09   \n",
      "3  2.023755e-08     0.195529  2.298086e-08      0.185139  2.167281e-08   \n",
      "4  1.343200e-08     0.195529  2.459504e-08      0.185139  1.978551e-08   \n",
      "5  2.043718e-14     0.100756  8.214751e-15      0.084383  2.167896e-14   \n",
      "6  1.411363e-13     0.100756  2.019138e-13      0.084383  1.183115e-13   \n",
      "7  4.582123e-11     0.195529  2.406315e-12      0.185139  5.238949e-11   \n",
      "\n",
      "   env3_in_acc   env3_in_ent  env3_out_acc  env3_out_ent  \n",
      "0     0.326747  3.986515e-03      0.270408  3.476567e-03  \n",
      "1     0.217548  8.622175e-03      0.205782  1.061230e-02  \n",
      "2     0.234332  1.668240e-04      0.252551  7.309579e-09  \n",
      "3     0.224134  1.075734e-09      0.202381  3.130245e-09  \n",
      "4     0.224134  2.021984e-08      0.202381  2.356063e-08  \n",
      "5     0.234332  2.029327e-14      0.252551  2.842973e-14  \n",
      "6     0.234332  7.353088e-14      0.252551  2.167148e-13  \n",
      "7     0.230720  1.394671e-03      0.202381  5.917441e-11  \n",
      "0    0.457440\n",
      "1    0.099884\n",
      "2    0.100756\n",
      "3    0.224134\n",
      "4    0.202742\n",
      "5    0.234332\n",
      "6    0.100756\n",
      "7    0.202742\n",
      "Name: test_in_acc, dtype: float64\n",
      "0    0.473549\n",
      "1    0.090909\n",
      "2    0.084383\n",
      "3    0.202381\n",
      "4    0.200422\n",
      "5    0.252551\n",
      "6    0.084383\n",
      "7    0.200422\n",
      "Name: test_out_acc, dtype: float64\n",
      "backbone  dataset        \n",
      "ConvNext  TerraIncognita     0.167544\n",
      "          TerraIncongnita    0.330091\n",
      "resnet50  TerraIncognita     0.156879\n",
      "Name: test_in_acc, dtype: float64\n",
      "backbone  dataset        \n",
      "ConvNext  TerraIncognita     0.168467\n",
      "          TerraIncongnita    0.336985\n",
      "resnet50  TerraIncognita     0.144524\n",
      "Name: test_out_acc, dtype: float64\n"
     ]
    }
   ],
   "source": [
    "# calculation of the unsupervised adaptation results\n",
    "import pandas as pd\n",
    "filepath = \"/home/niklas/Desktop/results.csv\"\n",
    "types = [\"in_acc\",\"in_ent\", \"out_acc\", \"out_ent\" ]\n",
    "columns = []\n",
    "for i in range(4):\n",
    "    for t in types:\n",
    "        column_name = \"env{env}_{t}\".format(env=i, t=t)\n",
    "        print(column_name)\n",
    "        columns.append(column_name)\n",
    "\n",
    "names = [\"test_env\", \"backbone\", \"dataset\", \"h1\", *columns, \"filter_K\", \"gamma\", \"lambd\"]\n",
    "print(names)\n",
    "df = pd.read_csv(filepath, names = names)\n",
    "data = df.drop([\"h1\", \"filter_K\", \"gamma\", \"lambd\"], axis=1)\n",
    "print(data)\n",
    "\n",
    "data[\"test_in_acc\"] = data.apply(lambda row: row[f'env{row[\"test_env\"]}_in_acc'], axis=1)\n",
    "data[\"test_out_acc\"] =data.apply(lambda row: row[f'env{row[\"test_env\"]}_out_acc'], axis=1)\n",
    "print(data[\"test_in_acc\"])\n",
    "print(data[\"test_out_acc\"])\n",
    "\n",
    "grouped = data.groupby([\"backbone\", \"dataset\"])\n",
    "\n",
    "print(grouped[\"test_in_acc\"].mean())\n",
    "print(grouped[\"test_out_acc\"].mean())\n"
   ]
  },
  {
   "cell_type": "code",
   "execution_count": 32,
   "id": "5b10444b",
   "metadata": {},
   "outputs": [
    {
     "name": "stdout",
     "output_type": "stream",
     "text": [
      "env0_in_acc\n",
      "env0_in_ent\n",
      "env0_out_acc\n",
      "env0_out_ent\n",
      "env1_in_acc\n",
      "env1_in_ent\n",
      "env1_out_acc\n",
      "env1_out_ent\n",
      "env2_in_acc\n",
      "env2_in_ent\n",
      "env2_out_acc\n",
      "env2_out_ent\n",
      "env3_in_acc\n",
      "env3_in_ent\n",
      "env3_out_acc\n",
      "env3_out_ent\n",
      "['test_env', 'backbone', 'dataset', 'env0_in_acc', 'env0_in_ent', 'env0_out_acc', 'env0_out_ent', 'env1_in_acc', 'env1_in_ent', 'env1_out_acc', 'env1_out_ent', 'env2_in_acc', 'env2_in_ent', 'env2_out_acc', 'env2_out_ent', 'env3_in_acc', 'env3_in_ent', 'env3_out_acc', 'env3_out_ent']\n",
      "   test_env  backbone          dataset  env0_in_acc  env0_in_ent  \\\n",
      "0         1  resnet50   TerraIncognita     0.979699     0.075036   \n",
      "1         2  ConvNext   TerraIncognita     0.988136     0.024928   \n",
      "2         3  ConvNext   TerraIncognita     0.986554     0.030286   \n",
      "3         0  ConvNext  TerraIncongnita     0.631426     0.543387   \n",
      "4         2  resnet50   TerraIncognita     0.971526     0.105339   \n",
      "5         3  resnet50   TerraIncognita     0.976008     0.082380   \n",
      "6         0  resnet50   TerraIncognita     0.536515     0.662211   \n",
      "\n",
      "   env0_out_acc  env0_out_ent  env1_in_acc  env1_in_ent  env1_out_acc  \\\n",
      "0      0.983122      0.077283     0.391321     0.518993      0.406780   \n",
      "1      0.991561      0.028141     0.976249     0.055441      0.979969   \n",
      "2      0.994726      0.026401     0.974708     0.054258      0.974833   \n",
      "3      0.644515      0.514426     0.924124     0.191052      0.933744   \n",
      "4      0.971519      0.109776     0.932084     0.205509      0.944530   \n",
      "5      0.986287      0.092283     0.944666     0.207458      0.941448   \n",
      "6      0.533755      0.686946     0.931570     0.248831      0.940935   \n",
      "\n",
      "   env1_out_ent  env2_in_acc  env2_in_ent  env2_out_acc  env2_out_ent  \\\n",
      "0      0.510084     0.948678     0.142730      0.945844      0.146100   \n",
      "1      0.051403     0.643892     0.366815      0.622166      0.392034   \n",
      "2      0.052782     0.973866     0.061550      0.968514      0.066843   \n",
      "3      0.174069     0.888224     0.277635      0.903023      0.270086   \n",
      "4      0.187675     0.589421     0.569826      0.528967      0.564929   \n",
      "5      0.194312     0.940806     0.152265      0.950882      0.133108   \n",
      "6      0.225815     0.939861     0.222539      0.942065      0.213112   \n",
      "\n",
      "   env3_in_acc  env3_in_ent  env3_out_acc  env3_out_ent  \n",
      "0     0.922668     0.214226      0.920068      0.201017  \n",
      "1     0.960484     0.072896      0.964286      0.063844  \n",
      "2     0.527725     0.498752      0.546769      0.493976  \n",
      "3     0.873380     0.330059      0.877551      0.324352  \n",
      "4     0.910346     0.262541      0.904762      0.263363  \n",
      "5     0.399618     0.555390      0.389456      0.541330  \n",
      "6     0.910771     0.270714      0.905612      0.252048  \n",
      "0    0.391321\n",
      "1    0.643892\n",
      "2    0.527725\n",
      "3    0.631426\n",
      "4    0.589421\n",
      "5    0.399618\n",
      "6    0.536515\n",
      "Name: test_in_acc, dtype: float64\n",
      "0    0.406780\n",
      "1    0.622166\n",
      "2    0.546769\n",
      "3    0.644515\n",
      "4    0.528967\n",
      "5    0.389456\n",
      "6    0.533755\n",
      "Name: test_out_acc, dtype: float64\n",
      "backbone  dataset        \n",
      "ConvNext  TerraIncognita     0.585808\n",
      "          TerraIncongnita    0.631426\n",
      "resnet50  TerraIncognita     0.479218\n",
      "Name: test_in_acc, dtype: float64\n",
      "backbone  dataset        \n",
      "ConvNext  TerraIncognita     0.584467\n",
      "          TerraIncongnita    0.644515\n",
      "resnet50  TerraIncognita     0.464739\n",
      "Name: test_out_acc, dtype: float64\n"
     ]
    }
   ],
   "source": [
    "#testing of base results\n",
    "filepath = \"/home/niklas/Desktop/base_results.csv\"\n",
    "types = [\"in_acc\",\"in_ent\", \"out_acc\", \"out_ent\" ]\n",
    "columns = []\n",
    "for i in range(4):\n",
    "    for t in types:\n",
    "        column_name = \"env{env}_{t}\".format(env=i, t=t)\n",
    "        print(column_name)\n",
    "        columns.append(column_name)\n",
    "\n",
    "names = [\"test_env\", \"backbone\", \"dataset\", *columns]\n",
    "print(names)\n",
    "df = pd.read_csv(filepath, names = names)\n",
    "data = df\n",
    "print(data)\n",
    "\n",
    "data[\"test_in_acc\"] = data.apply(lambda row: row[f'env{row[\"test_env\"]}_in_acc'], axis=1)\n",
    "data[\"test_out_acc\"] =data.apply(lambda row: row[f'env{row[\"test_env\"]}_out_acc'], axis=1)\n",
    "print(data[\"test_in_acc\"])\n",
    "print(data[\"test_out_acc\"])\n",
    "\n",
    "grouped = data.groupby([\"backbone\", \"dataset\"])\n",
    "\n",
    "print(grouped[\"test_in_acc\"].mean())\n",
    "print(grouped[\"test_out_acc\"].mean())"
   ]
  },
  {
   "cell_type": "code",
   "execution_count": 16,
   "id": "8f8700b3",
   "metadata": {},
   "outputs": [
    {
     "name": "stdout",
     "output_type": "stream",
     "text": [
      "         ERM-Reference    SWAD SIMPLE  UniDG\n",
      "resnet50         42.25  50.786   None   55.0\n",
      "ConvNext          58.3    None   None  64.52\n",
      "Ensemble          None    None  46.49   None\n"
     ]
    }
   ],
   "source": [
    "#create tables for latex \n",
    "import pandas as pd\n",
    "import numpy as np\n",
    "algorithms = [\"CORAL\",\"Mixup\",\"ERM\",\"Inter_domain_adaptation\"]\n",
    "algorithms_positive = [\"ERM-Reference\", \"SWAD\", \"SIMPLE\", \"UniDG\"]\n",
    "backbones = [\"resnet50\", \"ConvNext\",\"Ensemble\"]\n",
    "data_ERM = [42.25,58.3,None]\n",
    "data_SWAD = [50.786,None,None]\n",
    "data_SIMPLE = [None,None,46.49]\n",
    "data_UniDG = [55.00,64.52,None]\n",
    "data_comparison = data_ERM,data_SWAD, data_SIMPLE, data_UniDG\n",
    "data_comparison = np.array(data_comparison)\n",
    "\n",
    "base_values = pd.DataFrame(data= data_comparison.T,columns=algorithms_positive)\n",
    "base_values.index = backbones\n",
    "print(base_values)\n",
    "base_values.to_csv('out.csv')\n"
   ]
  },
  {
   "cell_type": "code",
   "execution_count": 3,
   "id": "e99fdc0a",
   "metadata": {},
   "outputs": [
    {
     "name": "stdout",
     "output_type": "stream",
     "text": [
      "            ERM  CORAL  Mixup   DANN\n",
      "resnet50  42.25  46.03  47.04  20.48\n",
      "ConvNext  58.30  59.04  60.06  56.36\n"
     ]
    }
   ],
   "source": [
    "import pandas as pd\n",
    "import numpy as np\n",
    "algorithms = [\"ERM\",\"CORAL\",\"Mixup\",\"DANN\"]\n",
    "backbones = [\"resnet50\", \"ConvNext\"]\n",
    "data_ERM = [42.25,58.3]\n",
    "data_CORAL = [46.03,59.04]\n",
    "data_Mixup = [47.04,60.06]\n",
    "data_DANN = [20.48,56.36]\n",
    "data_base = data_ERM,data_CORAL,data_Mixup, data_DANN\n",
    "data_base = np.array(data_base)\n",
    "base_values = pd.DataFrame(data= data_base.T, columns=algorithms)\n",
    "base_values.index = backbones\n",
    "print(base_values)\n",
    "base_values.to_csv('baseResultsDomainBed.csv')"
   ]
  },
  {
   "cell_type": "code",
   "execution_count": 1,
   "id": "589f1882",
   "metadata": {},
   "outputs": [
    {
     "name": "stdout",
     "output_type": "stream",
     "text": [
      "Index(['Adapt_Algorithm', 'backbone', 'algorithm', 'testenv', 'results'], dtype='object')\n"
     ]
    },
    {
     "data": {
      "image/png": "[encoded data removed]",
      "text/plain": [
       "<Figure size 640x480 with 1 Axes>"
      ]
     },
     "metadata": {},
     "output_type": "display_data"
    }
   ],
   "source": [
    "# bar diagrams of the results\n",
    "import pandas as pd\n",
    "import numpy as np\n",
    "import matplotlib.pyplot as plt\n",
    "import seaborn as sns\n",
    "columns = [\"adaptation_algorithm\",\"base_algorithm\", \"backbone\",\"testenv\"]\n",
    "excel_file = \"results_combined.xlsx\"\n",
    "\n",
    "# Load the Excel file into a Pandas DataFrame\n",
    "df = pd.read_excel(excel_file,sheet_name=1)\n",
    "print(df.columns)\n",
    "locations = {0:100, 1:38, 2:43,3:46}# 38 43 46 100 \n",
    "df[\"Location\"]= df[\"testenv\"].map(locations)\n",
    "\n",
    "options=[\"SIMPLE\",\"SWAD\",\"Inter\",\"Promptstyler optimized\", \"Car-FT\",\"Coral+UniDG\",\"ERM+UniDG\"]\n",
    "\n",
    "Implemented_algorithm = df.loc[df[\"algorithm\"].isin(options)]\n",
    "\n",
    "grouped_df = Implemented_algorithm.groupby([\"backbone\", \"algorithm\", \"Adapt_Algorithm\", \"Location\"]).mean().reset_index()\n",
    "sns.set_style(\"whitegrid\")\n",
    "# Plotting grouped bar chart\n",
    "grouped_df.pivot_table(index=['backbone', 'algorithm'], columns='Location', values='results').plot(kind='barh')\n",
    "\n",
    "# Show the plot\n",
    "plt.show()"
   ]
  },
  {
   "cell_type": "code",
   "execution_count": 7,
   "id": "be4fe231",
   "metadata": {},
   "outputs": [
    {
     "name": "stdout",
     "output_type": "stream",
     "text": [
      "Index(['Adapt_Algorithm', 'backbone', 'algorithm', 'testenv', 'results'], dtype='object')\n"
     ]
    },
    {
     "data": {
      "image/png": "[encoded data removed]",
      "text/plain": [
       "<Figure size 640x480 with 1 Axes>"
      ]
     },
     "metadata": {},
     "output_type": "display_data"
    }
   ],
   "source": [
    "# bar diagrams of the results\n",
    "import pandas as pd\n",
    "import numpy as np\n",
    "import matplotlib.pyplot as plt\n",
    "import seaborn as sns\n",
    "columns = [\"adaptation_algorithm\",\"base_algorithm\", \"backbone\",\"testenv\"]\n",
    "excel_file = \"results_combined.xlsx\"\n",
    "\n",
    "# Load the Excel file into a Pandas DataFrame\n",
    "df = pd.read_excel(excel_file,sheet_name=1)\n",
    "print(df.columns)\n",
    "locations = {0:100, 1:38, 2:43,3:46}# 38 43 46 100 \n",
    "df[\"Location\"]= df[\"testenv\"].map(locations)\n",
    "\n",
    "options=[\"Car-FT\",\"ERM\"]\n",
    "backbones = [\"resnet\", \"ViT-L/14\", \"ViT-B/16\"]\n",
    "Robins_algorithm = df.loc[df[\"algorithm\"].isin(options)]\n",
    "Implemented_algorithm = Robins_algorithm.loc[Robins_algorithm[\"backbone\"].isin(backbones)]\n",
    "\n",
    "grouped_df = Implemented_algorithm.groupby([\"backbone\", \"algorithm\", \"Adapt_Algorithm\", \"Location\"]).mean().reset_index()\n",
    "sns.set_style(\"whitegrid\")\n",
    "# Plotting grouped bar chart\n",
    "grouped_df.pivot_table(index=['backbone', 'algorithm'], columns='Location', values='results').plot(kind='bar')\n",
    "\n",
    "# Show the plot\n",
    "plt.show()"
   ]
  },
  {
   "cell_type": "code",
   "execution_count": 6,
   "id": "fe726001",
   "metadata": {},
   "outputs": [
    {
     "name": "stdout",
     "output_type": "stream",
     "text": [
      "   Adapt_Algorithm backbone algorithm  testenv  results  Location\n",
      "4               NO   resnet       ERM        0  0.45000       100\n",
      "5               NO   resnet       ERM        1  0.33100        38\n",
      "6               NO   resnet       ERM        2  0.57200        43\n",
      "7               NO   resnet       ERM        3  0.33700        46\n",
      "68              NO   resnet      SWAD        0  0.58450       100\n",
      "69              NO   resnet      SWAD        1  0.46120        38\n",
      "70              NO   resnet      SWAD        2  0.59446        43\n",
      "71              NO   resnet      SWAD        3  0.38836        46\n"
     ]
    },
    {
     "data": {
      "text/plain": [
       "<Axes: xlabel='backbone,algorithm'>"
      ]
     },
     "execution_count": 6,
     "metadata": {},
     "output_type": "execute_result"
    },
    {
     "data": {
      "image/png": "[encoded data removed]",
      "text/plain": [
       "<Figure size 640x480 with 1 Axes>"
      ]
     },
     "metadata": {},
     "output_type": "display_data"
    }
   ],
   "source": [
    "options = [\"ERM\", \"SWAD\"]\n",
    "backbones = ['resnet']\n",
    "unsupervised_adaptations = [\"NO\"]\n",
    "df_unsupervised = df.loc[df.Adapt_Algorithm.isin(unsupervised_adaptations)]\n",
    "ERM_SWAD_Algorithms = df_unsupervised.loc[df_unsupervised.algorithm.isin(options)]\n",
    "ERM_SWAD_Comparison = ERM_SWAD_Algorithms.loc[ERM_SWAD_Algorithms.backbone.isin(backbones)]\n",
    "\n",
    "print(ERM_SWAD_Comparison)\n",
    "grouped_df = ERM_SWAD_Comparison.groupby([\"backbone\", \"algorithm\", \"Adapt_Algorithm\", \"Location\"]).mean().reset_index()\n",
    "sns.set_style(\"whitegrid\")\n",
    "# Plotting grouped bar chart\n",
    "grouped_df.pivot_table(index=['backbone', 'algorithm'], columns='Location', values='results').plot(kind='bar')"
   ]
  },
  {
   "cell_type": "code",
   "execution_count": 10,
   "id": "bbaf06f2",
   "metadata": {},
   "outputs": [
    {
     "name": "stdout",
     "output_type": "stream",
     "text": [
      "   Adapt_Algorithm  backbone  algorithm  testenv  results  Location\n",
      "4               NO    resnet        ERM        0   0.4500       100\n",
      "5               NO    resnet        ERM        1   0.3310        38\n",
      "6               NO    resnet        ERM        2   0.5720        43\n",
      "7               NO    resnet        ERM        3   0.3370        46\n",
      "16              NO  ConvNext        ERM        0   0.6269       100\n",
      "17              NO  ConvNext        ERM        1   0.5040        38\n",
      "18              NO  ConvNext        ERM        2   0.6751        43\n",
      "19              NO  ConvNext        ERM        3   0.5260        46\n",
      "44           UniDG    resnet  ERM+UniDG        0   0.6150       100\n",
      "45           UniDG    resnet  ERM+UniDG        1   0.4982        38\n",
      "46           UniDG    resnet  ERM+UniDG        2   0.6044        43\n",
      "47           UniDG    resnet  ERM+UniDG        3   0.4823        46\n",
      "48           UniDG  ConvNext  ERM+UniDG        0   0.7361       100\n",
      "49           UniDG  ConvNext  ERM+UniDG        1   0.6008        38\n",
      "50           UniDG  ConvNext  ERM+UniDG        2   0.6996        43\n",
      "51           UniDG  ConvNext  ERM+UniDG        3   0.5751        46\n"
     ]
    },
    {
     "data": {
      "text/plain": [
       "<Axes: xlabel='backbone,algorithm'>"
      ]
     },
     "execution_count": 10,
     "metadata": {},
     "output_type": "execute_result"
    },
    {
     "data": {
      "image/png": "[encoded data removed]",
      "text/plain": [
       "<Figure size 640x480 with 1 Axes>"
      ]
     },
     "metadata": {},
     "output_type": "display_data"
    }
   ],
   "source": [
    "\n",
    "options = [\"ERM\",\"ERM+UniDG\" ]\n",
    "backbones = ['resnet','ConvNext']\n",
    "\n",
    "df_unsupervised = df.loc[df.Adapt_Algorithm.isin(unsupervised_adaptations)]\n",
    "ERM_SWAD_Algorithms = df_unsupervised.loc[df_unsupervised.algorithm.isin(options)]\n",
    "ERM_SWAD_Comparison = ERM_SWAD_Algorithms.loc[ERM_SWAD_Algorithms.backbone.isin(backbones)]\n",
    "\n",
    "print(ERM_SWAD_Comparison)\n",
    "grouped_df = ERM_SWAD_Comparison.groupby([\"backbone\", \"algorithm\", \"Adapt_Algorithm\", \"Location\"]).mean().reset_index()\n",
    "sns.set_style(\"whitegrid\")\n",
    "# Plotting grouped bar chart\n",
    "grouped_df.pivot_table(index=['backbone', 'algorithm'], columns='Location', values='results').plot(kind='bar')"
   ]
  },
  {
   "cell_type": "code",
   "execution_count": 48,
   "id": "8536eca3",
   "metadata": {},
   "outputs": [
    {
     "name": "stdout",
     "output_type": "stream",
     "text": [
      "0    0.646600\n",
      "1    0.652900\n",
      "2    0.549975\n",
      "Name: results, dtype: float64\n"
     ]
    },
    {
     "data": {
      "text/plain": [
       "<Axes: xlabel='Adapt_Algorithm,backbone,algorithm'>"
      ]
     },
     "execution_count": 48,
     "metadata": {},
     "output_type": "execute_result"
    },
    {
     "data": {
      "image/png": "[encoded data removed]",
      "text/plain": [
       "<Figure size 640x480 with 1 Axes>"
      ]
     },
     "metadata": {},
     "output_type": "display_data"
    }
   ],
   "source": [
    "options = [\"SWAD\",\"SIMPLE\",\"Inter\"]\n",
    "Implemented_algorithm = df.loc[df[\"algorithm\"].isin(options)]\n",
    "adapted = [\"T3A\",\"UniDG\"]\n",
    "condition = df[\"Adapt_Algorithm\"] == (\"UniDG\" or \"T3A\") \n",
    "adapted_part = df[condition]\n",
    "non_adapted_part = df[~condition]\n",
    "non_adapted_part.drop([\"Adapt_Algorithm\"], axis = 1)\n",
    "accuracies_adapted = adapted_part.groupby([\"backbone\", \"algorithm\", \"Adapt_Algorithm\"]).mean().reset_index()\n",
    "print(accuracies_adapted['results'])\n",
    "adapted_df = adapted_part.groupby([\"backbone\", \"algorithm\", \"Adapt_Algorithm\", \"Location\"]).mean().reset_index()\n",
    "\n",
    "adapted_df.pivot_table(index=['Adapt_Algorithm','backbone', 'algorithm'], columns='Location', values='results').plot(kind='bar')"
   ]
  },
  {
   "cell_type": "code",
   "execution_count": 42,
   "id": "fd46e543",
   "metadata": {},
   "outputs": [
    {
     "name": "stdout",
     "output_type": "stream",
     "text": [
      "  Adapt_Algorithm  backbone algorithm  testenv  results  Location\n",
      "0              NO  ConvNext     Inter        0   0.4250       100\n",
      "1              NO  ConvNext     Inter        3   0.5435        46\n",
      "2              NO  ConvNext     Inter        2   0.5056        43\n",
      "3              NO  ConvNext     Inter        1   0.4200        38\n",
      "4              NO    resnet       ERM        0   0.4500       100\n",
      "5              NO    resnet       ERM        1   0.3310        38\n",
      "6              NO    resnet       ERM        2   0.5720        43\n",
      "7              NO    resnet       ERM        3   0.3370        46\n",
      "8              NO    resnet     mixup        0   0.5637       100\n",
      "9              NO    resnet     mixup        1   0.4363        38\n"
     ]
    }
   ],
   "source": [
    "print(non_adapted_part.head(10))"
   ]
  },
  {
   "cell_type": "code",
   "execution_count": 1,
   "id": "c9a59e1e",
   "metadata": {},
   "outputs": [
    {
     "name": "stdout",
     "output_type": "stream",
     "text": [
      "Downloading http://yann.lecun.com/exdb/mnist/train-images-idx3-ubyte.gz\n",
      "Downloading http://yann.lecun.com/exdb/mnist/train-images-idx3-ubyte.gz to ./data/MNIST/raw/train-images-idx3-ubyte.gz\n"
     ]
    },
    {
     "name": "stderr",
     "output_type": "stream",
     "text": [
      "100%|██████████| 9912422/9912422 [00:04<00:00, 2153273.87it/s]\n"
     ]
    },
    {
     "name": "stdout",
     "output_type": "stream",
     "text": [
      "Extracting ./data/MNIST/raw/train-images-idx3-ubyte.gz to ./data/MNIST/raw\n",
      "\n",
      "Downloading http://yann.lecun.com/exdb/mnist/train-labels-idx1-ubyte.gz\n",
      "Downloading http://yann.lecun.com/exdb/mnist/train-labels-idx1-ubyte.gz to ./data/MNIST/raw/train-labels-idx1-ubyte.gz\n"
     ]
    },
    {
     "name": "stderr",
     "output_type": "stream",
     "text": [
      "100%|██████████| 28881/28881 [00:00<00:00, 112412.90it/s]\n"
     ]
    },
    {
     "name": "stdout",
     "output_type": "stream",
     "text": [
      "Extracting ./data/MNIST/raw/train-labels-idx1-ubyte.gz to ./data/MNIST/raw\n",
      "\n",
      "Downloading http://yann.lecun.com/exdb/mnist/t10k-images-idx3-ubyte.gz\n",
      "Downloading http://yann.lecun.com/exdb/mnist/t10k-images-idx3-ubyte.gz to ./data/MNIST/raw/t10k-images-idx3-ubyte.gz\n"
     ]
    },
    {
     "name": "stderr",
     "output_type": "stream",
     "text": [
      "100%|██████████| 1648877/1648877 [00:01<00:00, 1430661.06it/s]\n"
     ]
    },
    {
     "name": "stdout",
     "output_type": "stream",
     "text": [
      "Extracting ./data/MNIST/raw/t10k-images-idx3-ubyte.gz to ./data/MNIST/raw\n",
      "\n",
      "Downloading http://yann.lecun.com/exdb/mnist/t10k-labels-idx1-ubyte.gz\n",
      "Downloading http://yann.lecun.com/exdb/mnist/t10k-labels-idx1-ubyte.gz to ./data/MNIST/raw/t10k-labels-idx1-ubyte.gz\n"
     ]
    },
    {
     "name": "stderr",
     "output_type": "stream",
     "text": [
      "100%|██████████| 4542/4542 [00:00<00:00, 20331407.44it/s]\n"
     ]
    },
    {
     "name": "stdout",
     "output_type": "stream",
     "text": [
      "Extracting ./data/MNIST/raw/t10k-labels-idx1-ubyte.gz to ./data/MNIST/raw\n",
      "\n"
     ]
    },
    {
     "data": {
      "image/png": "[encoded data removed]",
      "text/plain": [
       "<Figure size 1500x500 with 3 Axes>"
      ]
     },
     "metadata": {},
     "output_type": "display_data"
    }
   ],
   "source": [
    "import torch\n",
    "import torchvision\n",
    "import matplotlib.pyplot as plt\n",
    "import numpy as np\n",
    "\n",
    "# Load Colored MNIST dataset\n",
    "colored_mnist_train = torchvision.datasets.MNIST(root='./data', train=True, transform=torchvision.transforms.Compose([\n",
    "                                torchvision.transforms.ToTensor(),\n",
    "                                torchvision.transforms.Lambda(lambda x: x.repeat(3, 1, 1))]), download=True)\n",
    "\n",
    "# Choose two random images\n",
    "idx1 = np.random.randint(0, len(colored_mnist_train))\n",
    "idx2 = np.random.randint(0, len(colored_mnist_train))\n",
    "\n",
    "# Get the images and labels\n",
    "img1, label1 = colored_mnist_train[idx1]\n",
    "img2, label2 = colored_mnist_train[idx2]\n",
    "\n",
    "# Convert images to numpy arrays\n",
    "img1_np = img1.numpy().transpose((1, 2, 0))  # Convert from (C, H, W) to (H, W, C)\n",
    "img2_np = img2.numpy().transpose((1, 2, 0))\n",
    "\n",
    "# Mixup parameter (lambda)\n",
    "lambda_val = 0.5  # You can adjust this value\n",
    "\n",
    "# Overlay the images using Mixup\n",
    "mixed_img_np = lambda_val * img1_np + (1 - lambda_val) * img2_np\n",
    "\n",
    "# Visualize the original images\n",
    "plt.figure(figsize=(15, 5))\n",
    "plt.subplot(1, 3, 1)\n",
    "plt.imshow(img1_np)\n",
    "plt.title(f\"Image 1 (Label: {label1})\")\n",
    "plt.axis('off')\n",
    "\n",
    "plt.subplot(1, 3, 2)\n",
    "plt.imshow(img2_np)\n",
    "plt.title(f\"Image 2 (Label: {label2})\")\n",
    "plt.axis('off')\n",
    "\n",
    "# Visualize the mixed image\n",
    "plt.subplot(1, 3, 3)\n",
    "plt.imshow(mixed_img_np)\n",
    "plt.title(\"Mixed Image\")\n",
    "plt.axis('off')\n",
    "\n",
    "plt.show()\n"
   ]
  }
 ],
 "metadata": {
  "kernelspec": {
   "display_name": "Python 3 (ipykernel)",
   "language": "python",
   "name": "python3"
  },
  "language_info": {
   "codemirror_mode": {
    "name": "ipython",
    "version": 3
   },
   "file_extension": ".py",
   "mimetype": "text/x-python",
   "name": "python",
   "nbconvert_exporter": "python",
   "pygments_lexer": "ipython3",
   "version": "3.11.5"
  }
 },
 "nbformat": 4,
 "nbformat_minor": 5
}
